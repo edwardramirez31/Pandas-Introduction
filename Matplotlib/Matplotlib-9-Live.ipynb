{
 "cells": [
  {
   "cell_type": "markdown",
   "id": "sunrise-accuracy",
   "metadata": {},
   "source": [
    "# Plotting Live Time Data\n",
    "decirle a matplotlib que quiero correr cierta funcion en un intervalo especifico\n",
    "\n"
   ]
  },
  {
   "cell_type": "code",
   "execution_count": 1,
   "id": "documented-syndicate",
   "metadata": {},
   "outputs": [],
   "source": [
    "from itertools import count\n",
    "from random import randint\n",
    "import matplotlib.pyplot as plt\n",
    "from matplotlib.animation import FuncAnimation"
   ]
  },
  {
   "cell_type": "code",
   "execution_count": 2,
   "id": "deluxe-archives",
   "metadata": {},
   "outputs": [],
   "source": [
    "x_values = []\n",
    "y_values = []\n",
    "index = count()\n",
    "\n",
    "plt.style.use('ggplot')\n",
    "\n",
    "def animate(i):\n",
    "    x_values.append(next(index))\n",
    "    y_values.append(randint(0, 5))\n",
    "    plt.cla()\n",
    "    plt.plot(x_values, y_values)\n",
    "    \n",
    "    "
   ]
  },
  {
   "cell_type": "code",
   "execution_count": 3,
   "id": "mature-corrections",
   "metadata": {},
   "outputs": [
    {
     "data": {
      "text/plain": [
       "<function matplotlib.pyplot.show(close=None, block=None)>"
      ]
     },
     "execution_count": 3,
     "metadata": {},
     "output_type": "execute_result"
    },
    {
     "data": {
      "text/plain": [
       "<Figure size 432x288 with 0 Axes>"
      ]
     },
     "metadata": {},
     "output_type": "display_data"
    }
   ],
   "source": [
    "\n",
    "\n",
    "# pasar la figura del plot, la funcion que quiero correr para la animacion y el intervalo de repeticion en ms\n",
    "# matplotlib va a corer la funcion animate cada segundo\n",
    "ani = FuncAnimation(plt.gcf(), animate, interval=1000)\n",
    "\n",
    "plt.tight_layout()\n",
    "plt.show\n",
    "# plot crea una nueva linea cada vez que se llame\n",
    "# para limpiar la anterior se limpian los axis\n",
    "# plt.cla()"
   ]
  },
  {
   "cell_type": "code",
   "execution_count": null,
   "id": "dramatic-wedding",
   "metadata": {},
   "outputs": [],
   "source": []
  }
 ],
 "metadata": {
  "kernelspec": {
   "display_name": "Python 3",
   "language": "python",
   "name": "python3"
  },
  "language_info": {
   "codemirror_mode": {
    "name": "ipython",
    "version": 3
   },
   "file_extension": ".py",
   "mimetype": "text/x-python",
   "name": "python",
   "nbconvert_exporter": "python",
   "pygments_lexer": "ipython3",
   "version": "3.8.5"
  }
 },
 "nbformat": 4,
 "nbformat_minor": 5
}
