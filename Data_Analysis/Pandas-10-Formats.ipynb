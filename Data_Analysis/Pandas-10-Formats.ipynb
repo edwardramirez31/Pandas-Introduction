{
 "cells": [
  {
   "cell_type": "code",
   "execution_count": 1,
   "id": "stone-saudi",
   "metadata": {},
   "outputs": [],
   "source": [
    "# método to_csv\n",
    "# df.to_csv(path)"
   ]
  },
  {
   "cell_type": "code",
   "execution_count": 2,
   "id": "seasonal-colorado",
   "metadata": {},
   "outputs": [],
   "source": [
    "#df.to_csv('asdf/.tsv', sep='\\t')"
   ]
  },
  {
   "cell_type": "code",
   "execution_count": 3,
   "id": "collaborative-desert",
   "metadata": {},
   "outputs": [],
   "source": [
    "# sep='\\t' in read_csv"
   ]
  },
  {
   "cell_type": "code",
   "execution_count": 4,
   "id": "flying-graphic",
   "metadata": {},
   "outputs": [],
   "source": [
    "#EXCEL\n",
    "# pip install xlwt openpyxl xlrd para escribir en xls\n",
    "# para escribir en xlsx\n",
    "#to_excel method"
   ]
  },
  {
   "cell_type": "code",
   "execution_count": 5,
   "id": "hidden-fiction",
   "metadata": {},
   "outputs": [],
   "source": [
    "# specific sheet in sheet argument"
   ]
  },
  {
   "cell_type": "code",
   "execution_count": 6,
   "id": "committed-courtesy",
   "metadata": {},
   "outputs": [],
   "source": [
    "# read\n",
    "#pd.read_excel(path, index_col='')"
   ]
  },
  {
   "cell_type": "code",
   "execution_count": 7,
   "id": "informed-competition",
   "metadata": {},
   "outputs": [],
   "source": [
    "# JSON\n",
    "# df.to_json(path, orient='records', lines=True)\n",
    "# pd.read_json(path, orient='records', lines=True)"
   ]
  },
  {
   "cell_type": "code",
   "execution_count": null,
   "id": "dominant-marsh",
   "metadata": {},
   "outputs": [],
   "source": [
    "#SQL\n",
    "# pip install SQLAlchemy psycopg2-binary"
   ]
  }
 ],
 "metadata": {
  "kernelspec": {
   "display_name": "Python 3",
   "language": "python",
   "name": "python3"
  },
  "language_info": {
   "codemirror_mode": {
    "name": "ipython",
    "version": 3
   },
   "file_extension": ".py",
   "mimetype": "text/x-python",
   "name": "python",
   "nbconvert_exporter": "python",
   "pygments_lexer": "ipython3",
   "version": "3.8.5"
  }
 },
 "nbformat": 4,
 "nbformat_minor": 5
}
