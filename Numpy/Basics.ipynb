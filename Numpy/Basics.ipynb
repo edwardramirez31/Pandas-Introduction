{
 "cells": [
  {
   "cell_type": "code",
   "execution_count": 2,
   "id": "accepted-heating",
   "metadata": {},
   "outputs": [],
   "source": [
    "import numpy as np"
   ]
  },
  {
   "cell_type": "code",
   "execution_count": 1,
   "id": "flush-easter",
   "metadata": {},
   "outputs": [
    {
     "data": {
      "text/plain": [
       "22"
      ]
     },
     "execution_count": 1,
     "metadata": {},
     "output_type": "execute_result"
    }
   ],
   "source": [
    "# producto punto\n",
    "l1 = [1, 2, 3]\n",
    "l2 = [5, 4, 3]\n",
    "\n",
    "product = 0\n",
    "for i in range(len(l1)):\n",
    "    product += l1[i] * l2[i]\n",
    "    \n",
    "product"
   ]
  },
  {
   "cell_type": "code",
   "execution_count": 3,
   "id": "quantitative-legislature",
   "metadata": {},
   "outputs": [
    {
     "data": {
      "text/plain": [
       "22"
      ]
     },
     "execution_count": 3,
     "metadata": {},
     "output_type": "execute_result"
    }
   ],
   "source": [
    "array1 = np.array([1, 2, 3])\n",
    "array2 = np.array([5, 4, 3])\n",
    "\n",
    "array1.dot(array2)"
   ]
  },
  {
   "cell_type": "code",
   "execution_count": 4,
   "id": "turned-cisco",
   "metadata": {},
   "outputs": [
    {
     "data": {
      "text/plain": [
       "22"
      ]
     },
     "execution_count": 4,
     "metadata": {},
     "output_type": "execute_result"
    }
   ],
   "source": [
    "np.dot(array1, array2)"
   ]
  },
  {
   "cell_type": "code",
   "execution_count": 5,
   "id": "cordless-tablet",
   "metadata": {},
   "outputs": [
    {
     "data": {
      "text/plain": [
       "array([5, 8, 9])"
      ]
     },
     "execution_count": 5,
     "metadata": {},
     "output_type": "execute_result"
    }
   ],
   "source": [
    "mult = array1 * array2\n",
    "mult"
   ]
  },
  {
   "cell_type": "code",
   "execution_count": 6,
   "id": "dental-equilibrium",
   "metadata": {},
   "outputs": [
    {
     "data": {
      "text/plain": [
       "22"
      ]
     },
     "execution_count": 6,
     "metadata": {},
     "output_type": "execute_result"
    }
   ],
   "source": [
    "sum(mult)"
   ]
  },
  {
   "cell_type": "code",
   "execution_count": 8,
   "id": "expected-ensemble",
   "metadata": {},
   "outputs": [
    {
     "data": {
      "text/plain": [
       "22"
      ]
     },
     "execution_count": 8,
     "metadata": {},
     "output_type": "execute_result"
    }
   ],
   "source": [
    "(array1 * array2).sum()"
   ]
  },
  {
   "cell_type": "code",
   "execution_count": 10,
   "id": "pacific-counter",
   "metadata": {},
   "outputs": [
    {
     "data": {
      "text/plain": [
       "22"
      ]
     },
     "execution_count": 10,
     "metadata": {},
     "output_type": "execute_result"
    }
   ],
   "source": [
    "array1 @ array2"
   ]
  },
  {
   "cell_type": "code",
   "execution_count": 12,
   "id": "following-conversation",
   "metadata": {},
   "outputs": [
    {
     "data": {
      "text/plain": [
       "array([ 0.1064952 , -0.08043914, -1.31350076,  0.4156376 ,  2.64904088,\n",
       "        0.11428753, -0.384326  , -2.00058338,  0.44698694, -0.08612944])"
      ]
     },
     "execution_count": 12,
     "metadata": {},
     "output_type": "execute_result"
    }
   ],
   "source": [
    "np.random.randn(10)"
   ]
  },
  {
   "cell_type": "code",
   "execution_count": 13,
   "id": "wrapped-repeat",
   "metadata": {},
   "outputs": [
    {
     "data": {
      "text/plain": [
       "(3,)"
      ]
     },
     "execution_count": 13,
     "metadata": {},
     "output_type": "execute_result"
    }
   ],
   "source": [
    "array1.shape"
   ]
  },
  {
   "cell_type": "code",
   "execution_count": 15,
   "id": "adjustable-investing",
   "metadata": {},
   "outputs": [
    {
     "data": {
      "text/plain": [
       "dtype('int32')"
      ]
     },
     "execution_count": 15,
     "metadata": {},
     "output_type": "execute_result"
    }
   ],
   "source": [
    "array1.dtype"
   ]
  },
  {
   "cell_type": "code",
   "execution_count": 16,
   "id": "acting-politics",
   "metadata": {},
   "outputs": [
    {
     "data": {
      "text/plain": [
       "3"
      ]
     },
     "execution_count": 16,
     "metadata": {},
     "output_type": "execute_result"
    }
   ],
   "source": [
    "array1.size"
   ]
  },
  {
   "cell_type": "code",
   "execution_count": 18,
   "id": "independent-adelaide",
   "metadata": {},
   "outputs": [
    {
     "data": {
      "text/plain": [
       "1"
      ]
     },
     "execution_count": 18,
     "metadata": {},
     "output_type": "execute_result"
    }
   ],
   "source": [
    "# number of dimention\n",
    "array1.ndim"
   ]
  },
  {
   "cell_type": "code",
   "execution_count": 19,
   "id": "wicked-listing",
   "metadata": {},
   "outputs": [
    {
     "data": {
      "text/plain": [
       "4"
      ]
     },
     "execution_count": 19,
     "metadata": {},
     "output_type": "execute_result"
    }
   ],
   "source": [
    "# Item size in bytes\n",
    "array1.itemsize"
   ]
  },
  {
   "cell_type": "code",
   "execution_count": 20,
   "id": "olive-alabama",
   "metadata": {},
   "outputs": [
    {
     "data": {
      "text/plain": [
       "1"
      ]
     },
     "execution_count": 20,
     "metadata": {},
     "output_type": "execute_result"
    }
   ],
   "source": [
    "array1[0]"
   ]
  },
  {
   "cell_type": "code",
   "execution_count": 21,
   "id": "thorough-ceiling",
   "metadata": {},
   "outputs": [
    {
     "data": {
      "text/plain": [
       "array([20,  2,  3])"
      ]
     },
     "execution_count": 21,
     "metadata": {},
     "output_type": "execute_result"
    }
   ],
   "source": [
    "array1[0] = 20\n",
    "array1"
   ]
  },
  {
   "cell_type": "code",
   "execution_count": 22,
   "id": "fatal-hunter",
   "metadata": {},
   "outputs": [
    {
     "data": {
      "text/plain": [
       "array([100,   8,   9])"
      ]
     },
     "execution_count": 22,
     "metadata": {},
     "output_type": "execute_result"
    }
   ],
   "source": [
    "array1 * array2"
   ]
  },
  {
   "cell_type": "code",
   "execution_count": 23,
   "id": "preliminary-class",
   "metadata": {},
   "outputs": [
    {
     "data": {
      "text/plain": [
       "array([24,  6,  7])"
      ]
     },
     "execution_count": 23,
     "metadata": {},
     "output_type": "execute_result"
    }
   ],
   "source": [
    "array1 + 4"
   ]
  },
  {
   "cell_type": "code",
   "execution_count": 24,
   "id": "alpine-fields",
   "metadata": {},
   "outputs": [
    {
     "data": {
      "text/plain": [
       "array([11, 10,  9])"
      ]
     },
     "execution_count": 24,
     "metadata": {},
     "output_type": "execute_result"
    }
   ],
   "source": [
    "array2 + np.array([6])"
   ]
  },
  {
   "cell_type": "code",
   "execution_count": 25,
   "id": "peripheral-alarm",
   "metadata": {},
   "outputs": [
    {
     "data": {
      "text/plain": [
       "array([10,  8,  6])"
      ]
     },
     "execution_count": 25,
     "metadata": {},
     "output_type": "execute_result"
    }
   ],
   "source": [
    "array2 * 2"
   ]
  },
  {
   "cell_type": "code",
   "execution_count": 26,
   "id": "scheduled-reform",
   "metadata": {},
   "outputs": [
    {
     "data": {
      "text/plain": [
       "array([2.23606798, 2.        , 1.73205081])"
      ]
     },
     "execution_count": 26,
     "metadata": {},
     "output_type": "execute_result"
    }
   ],
   "source": [
    "np.sqrt(array2)"
   ]
  },
  {
   "cell_type": "code",
   "execution_count": 27,
   "id": "interior-celebration",
   "metadata": {},
   "outputs": [
    {
     "data": {
      "text/plain": [
       "array([1.60943791, 1.38629436, 1.09861229])"
      ]
     },
     "execution_count": 27,
     "metadata": {},
     "output_type": "execute_result"
    }
   ],
   "source": [
    "np.log(array2)"
   ]
  },
  {
   "cell_type": "code",
   "execution_count": null,
   "id": "dental-sport",
   "metadata": {},
   "outputs": [],
   "source": []
  }
 ],
 "metadata": {
  "kernelspec": {
   "display_name": "Python 3",
   "language": "python",
   "name": "python3"
  },
  "language_info": {
   "codemirror_mode": {
    "name": "ipython",
    "version": 3
   },
   "file_extension": ".py",
   "mimetype": "text/x-python",
   "name": "python",
   "nbconvert_exporter": "python",
   "pygments_lexer": "ipython3",
   "version": "3.8.5"
  }
 },
 "nbformat": 4,
 "nbformat_minor": 5
}
