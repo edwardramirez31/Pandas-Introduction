{
 "cells": [
  {
   "cell_type": "code",
   "execution_count": 1,
   "id": "cleared-fetish",
   "metadata": {},
   "outputs": [
    {
     "data": {
      "text/plain": [
       "array([[0., 1., 2.],\n",
       "       [3., 4., 5.]], dtype=float32)"
      ]
     },
     "execution_count": 1,
     "metadata": {},
     "output_type": "execute_result"
    }
   ],
   "source": [
    "import numpy as np\n",
    "\n",
    "arr = np.array([[0, 1, 2], [3, 4, 5]],\n",
    "               dtype=np.float32)\n",
    "arr"
   ]
  },
  {
   "cell_type": "markdown",
   "id": "operational-summer",
   "metadata": {},
   "source": [
    "# CASTING\n",
    "Para convertir tipos de datos de un array se usa el método `np.astype` del array, al cual se le pasa el tipo de dato deseado del array"
   ]
  },
  {
   "cell_type": "code",
   "execution_count": 2,
   "id": "tracked-plumbing",
   "metadata": {},
   "outputs": [
    {
     "data": {
      "text/plain": [
       "array([[0, 1, 2],\n",
       "       [3, 4, 5]], dtype=int64)"
      ]
     },
     "execution_count": 2,
     "metadata": {},
     "output_type": "execute_result"
    }
   ],
   "source": [
    "arr.astype(np.int64)"
   ]
  },
  {
   "cell_type": "code",
   "execution_count": 3,
   "id": "excited-canberra",
   "metadata": {},
   "outputs": [
    {
     "data": {
      "text/plain": [
       "array([-5., -2.,  1.,  4.])"
      ]
     },
     "execution_count": 3,
     "metadata": {},
     "output_type": "execute_result"
    }
   ],
   "source": [
    "# para especificar un rango de datos bajo cierto criterio de salto\n",
    "np.arange(-5, 5, 3, dtype=np.float64)"
   ]
  },
  {
   "cell_type": "code",
   "execution_count": 4,
   "id": "together-default",
   "metadata": {},
   "outputs": [
    {
     "data": {
      "text/plain": [
       "array([1. , 1.4, 1.8, 2.2, 2.6, 3. , 3.4, 3.8, 4.2, 4.6, 5. ])"
      ]
     },
     "execution_count": 4,
     "metadata": {},
     "output_type": "execute_result"
    }
   ],
   "source": [
    "# para especificar el número de elementos en lugar del salto\n",
    "np.linspace(1, 5, 11, dtype=np.float64)"
   ]
  },
  {
   "cell_type": "code",
   "execution_count": 5,
   "id": "stupid-phrase",
   "metadata": {},
   "outputs": [
    {
     "data": {
      "text/plain": [
       "array([1. , 1.4, 1.8, 2.2, 2.6, 3. , 3.4, 3.8, 4.2, 4.6])"
      ]
     },
     "execution_count": 5,
     "metadata": {},
     "output_type": "execute_result"
    }
   ],
   "source": [
    "np.linspace(1, 5, 10, endpoint=False, dtype=np.float64)"
   ]
  },
  {
   "cell_type": "markdown",
   "id": "possible-hayes",
   "metadata": {},
   "source": [
    "# RESHAPING DATA\n",
    "Para cambiar las dimensiones de un array de NumPy se usa el método `np.reshape`"
   ]
  },
  {
   "cell_type": "code",
   "execution_count": 6,
   "id": "dietary-sequence",
   "metadata": {},
   "outputs": [
    {
     "data": {
      "text/plain": [
       "array([[0., 1., 2.],\n",
       "       [3., 4., 5.]], dtype=float32)"
      ]
     },
     "execution_count": 6,
     "metadata": {},
     "output_type": "execute_result"
    }
   ],
   "source": [
    "arr"
   ]
  },
  {
   "cell_type": "code",
   "execution_count": 7,
   "id": "american-basics",
   "metadata": {},
   "outputs": [
    {
     "data": {
      "text/plain": [
       "array([[0., 1.],\n",
       "       [2., 3.],\n",
       "       [4., 5.]], dtype=float32)"
      ]
     },
     "execution_count": 7,
     "metadata": {},
     "output_type": "execute_result"
    }
   ],
   "source": [
    "# las nuevas dimensiones deben contener todos los elementos del array\n",
    "arr.reshape((3, 2))"
   ]
  },
  {
   "cell_type": "code",
   "execution_count": 8,
   "id": "moderate-assessment",
   "metadata": {},
   "outputs": [
    {
     "data": {
      "text/plain": [
       "array([[0., 1., 2., 3., 4., 5.]], dtype=float32)"
      ]
     },
     "execution_count": 8,
     "metadata": {},
     "output_type": "execute_result"
    }
   ],
   "source": [
    "np.reshape(arr, (1, 6))"
   ]
  },
  {
   "cell_type": "code",
   "execution_count": 9,
   "id": "african-fellowship",
   "metadata": {},
   "outputs": [
    {
     "data": {
      "text/plain": [
       "array([[0., 1., 2.],\n",
       "       [3., 4., 5.]], dtype=float32)"
      ]
     },
     "execution_count": 9,
     "metadata": {},
     "output_type": "execute_result"
    }
   ],
   "source": [
    "arr"
   ]
  },
  {
   "cell_type": "code",
   "execution_count": 10,
   "id": "registered-airport",
   "metadata": {},
   "outputs": [
    {
     "data": {
      "text/plain": [
       "array([0., 1., 2., 3., 4., 5.], dtype=float32)"
      ]
     },
     "execution_count": 10,
     "metadata": {},
     "output_type": "execute_result"
    }
   ],
   "source": [
    "# se puede aplanar un array para que sea de una sola dimensión\n",
    "arr.flatten()"
   ]
  },
  {
   "cell_type": "markdown",
   "id": "annoying-little",
   "metadata": {},
   "source": [
    "Es posible usar el valor especial de `-1` como máximo en una dimensión de la nueva forma. La dimensión con -1 tomará el valor necesario para permitir que la nueva forma contenga todos los elementos de la matriz."
   ]
  },
  {
   "cell_type": "code",
   "execution_count": 11,
   "id": "external-tyler",
   "metadata": {},
   "outputs": [
    {
     "data": {
      "text/plain": [
       "array([[[0, 1, 2, 3]],\n",
       "\n",
       "       [[4, 5, 6, 7]]])"
      ]
     },
     "execution_count": 11,
     "metadata": {},
     "output_type": "execute_result"
    }
   ],
   "source": [
    "arr2 = np.arange(8)\n",
    "np.reshape(arr2, (-1, 1, 4))"
   ]
  },
  {
   "cell_type": "code",
   "execution_count": 12,
   "id": "forced-blend",
   "metadata": {},
   "outputs": [
    {
     "data": {
      "text/plain": [
       "array([[[0, 1],\n",
       "        [2, 3]],\n",
       "\n",
       "       [[4, 5],\n",
       "        [6, 7]]])"
      ]
     },
     "execution_count": 12,
     "metadata": {},
     "output_type": "execute_result"
    }
   ],
   "source": [
    "np.reshape(arr2, (-1, 2, 2))"
   ]
  },
  {
   "cell_type": "code",
   "execution_count": 13,
   "id": "prescription-belle",
   "metadata": {},
   "outputs": [
    {
     "data": {
      "text/plain": [
       "array([[0, 1, 2, 3, 4, 5, 6, 7]])"
      ]
     },
     "execution_count": 13,
     "metadata": {},
     "output_type": "execute_result"
    }
   ],
   "source": [
    "# cuando los datos deben ser dimensionados de cierta forma\n",
    "# se puede usar newaxis para crear un eje nuevo en el array\n",
    "a = np.arange(8)\n",
    "# create new row axis\n",
    "a[np.newaxis, :]"
   ]
  },
  {
   "cell_type": "code",
   "execution_count": 14,
   "id": "duplicate-withdrawal",
   "metadata": {},
   "outputs": [
    {
     "data": {
      "text/plain": [
       "array([[0],\n",
       "       [1],\n",
       "       [2],\n",
       "       [3],\n",
       "       [4],\n",
       "       [5],\n",
       "       [6],\n",
       "       [7]])"
      ]
     },
     "execution_count": 14,
     "metadata": {},
     "output_type": "execute_result"
    }
   ],
   "source": [
    "a[:,np.newaxis]"
   ]
  },
  {
   "cell_type": "code",
   "execution_count": 15,
   "id": "desirable-mission",
   "metadata": {},
   "outputs": [
    {
     "data": {
      "text/plain": [
       "array([[[0., 1., 2.]],\n",
       "\n",
       "       [[3., 4., 5.]]], dtype=float32)"
      ]
     },
     "execution_count": 15,
     "metadata": {},
     "output_type": "execute_result"
    }
   ],
   "source": [
    "arr[:, np.newaxis]"
   ]
  },
  {
   "cell_type": "code",
   "execution_count": 16,
   "id": "legitimate-western",
   "metadata": {},
   "outputs": [
    {
     "data": {
      "text/plain": [
       "array([[[0., 1., 2.],\n",
       "        [3., 4., 5.]]], dtype=float32)"
      ]
     },
     "execution_count": 16,
     "metadata": {},
     "output_type": "execute_result"
    }
   ],
   "source": [
    "arr[np.newaxis, :]"
   ]
  },
  {
   "cell_type": "markdown",
   "id": "affecting-booking",
   "metadata": {},
   "source": [
    "# TRANSPUESTA\n",
    "Con el metodo `np.transpose` es posible determinar la transpuesta de la matriz"
   ]
  },
  {
   "cell_type": "code",
   "execution_count": 17,
   "id": "specific-summary",
   "metadata": {},
   "outputs": [
    {
     "data": {
      "text/plain": [
       "array([0, 1, 2, 3, 4, 5, 6, 7, 8, 9])"
      ]
     },
     "execution_count": 17,
     "metadata": {},
     "output_type": "execute_result"
    }
   ],
   "source": [
    "arr3 = np.arange(10)\n",
    "arr3"
   ]
  },
  {
   "cell_type": "code",
   "execution_count": 18,
   "id": "consistent-riding",
   "metadata": {},
   "outputs": [
    {
     "data": {
      "text/plain": [
       "array([[0, 1, 2, 3, 4],\n",
       "       [5, 6, 7, 8, 9]])"
      ]
     },
     "execution_count": 18,
     "metadata": {},
     "output_type": "execute_result"
    }
   ],
   "source": [
    "arr3 = arr3.reshape((2, 5))\n",
    "arr3"
   ]
  },
  {
   "cell_type": "code",
   "execution_count": 19,
   "id": "aerial-camel",
   "metadata": {},
   "outputs": [
    {
     "data": {
      "text/plain": [
       "array([[0, 5],\n",
       "       [1, 6],\n",
       "       [2, 7],\n",
       "       [3, 8],\n",
       "       [4, 9]])"
      ]
     },
     "execution_count": 19,
     "metadata": {},
     "output_type": "execute_result"
    }
   ],
   "source": [
    "# filas se convierten en columnas y columnas en filas\n",
    "trans = np.transpose(arr3)\n",
    "trans"
   ]
  },
  {
   "cell_type": "code",
   "execution_count": 20,
   "id": "progressive-picture",
   "metadata": {},
   "outputs": [
    {
     "data": {
      "text/plain": [
       "array([[0, 5],\n",
       "       [1, 6],\n",
       "       [2, 7],\n",
       "       [3, 8],\n",
       "       [4, 9]])"
      ]
     },
     "execution_count": 20,
     "metadata": {},
     "output_type": "execute_result"
    }
   ],
   "source": [
    "arr3.T"
   ]
  },
  {
   "cell_type": "code",
   "execution_count": 21,
   "id": "aware-enemy",
   "metadata": {},
   "outputs": [
    {
     "data": {
      "text/plain": [
       "(5, 2)"
      ]
     },
     "execution_count": 21,
     "metadata": {},
     "output_type": "execute_result"
    }
   ],
   "source": [
    "trans.shape"
   ]
  },
  {
   "cell_type": "markdown",
   "id": "falling-prescription",
   "metadata": {},
   "source": [
    "# ACCEDER A ELEMENTOS DEL ARRAY\n",
    "Se usa la notación de corchetes de la misma forma que con listas"
   ]
  },
  {
   "cell_type": "code",
   "execution_count": 22,
   "id": "interior-longitude",
   "metadata": {},
   "outputs": [
    {
     "data": {
      "text/plain": [
       "array([[0., 1., 2.],\n",
       "       [3., 4., 5.]], dtype=float32)"
      ]
     },
     "execution_count": 22,
     "metadata": {},
     "output_type": "execute_result"
    }
   ],
   "source": [
    "arr"
   ]
  },
  {
   "cell_type": "code",
   "execution_count": 23,
   "id": "respiratory-course",
   "metadata": {},
   "outputs": [
    {
     "data": {
      "text/plain": [
       "array([0., 1., 2.], dtype=float32)"
      ]
     },
     "execution_count": 23,
     "metadata": {},
     "output_type": "execute_result"
    }
   ],
   "source": [
    "# si es una matriz, se obtiene como primer elemento un array\n",
    "arr[0]"
   ]
  },
  {
   "cell_type": "code",
   "execution_count": 24,
   "id": "subtle-information",
   "metadata": {},
   "outputs": [
    {
     "data": {
      "text/plain": [
       "1"
      ]
     },
     "execution_count": 24,
     "metadata": {},
     "output_type": "execute_result"
    }
   ],
   "source": [
    "# si es un array, se obtiene un elemento como en listas de Python\n",
    "np.arange(-1, 5)[2]"
   ]
  },
  {
   "cell_type": "markdown",
   "id": "lined-decline",
   "metadata": {},
   "source": [
    "# SLICING\n",
    "Dado que los arrays pueden ser de multiples dimensiones, se debe especificar un segmento para cada dimension de la matriz\n",
    "> `[rows, columns]`"
   ]
  },
  {
   "cell_type": "code",
   "execution_count": 25,
   "id": "alert-signal",
   "metadata": {},
   "outputs": [
    {
     "data": {
      "text/plain": [
       "array([ 1,  2,  3,  4,  5,  6,  7,  8,  9, 10, 11, 12], dtype=int64)"
      ]
     },
     "execution_count": 25,
     "metadata": {},
     "output_type": "execute_result"
    }
   ],
   "source": [
    "mult_arr = np.linspace(1, 12, 12, dtype=np.int64)\n",
    "mult_arr"
   ]
  },
  {
   "cell_type": "code",
   "execution_count": 26,
   "id": "residential-kitty",
   "metadata": {},
   "outputs": [
    {
     "data": {
      "text/plain": [
       "array([[ 1,  2,  3,  4],\n",
       "       [ 5,  6,  7,  8],\n",
       "       [ 9, 10, 11, 12]], dtype=int64)"
      ]
     },
     "execution_count": 26,
     "metadata": {},
     "output_type": "execute_result"
    }
   ],
   "source": [
    "matrix = mult_arr.reshape((3, 4))\n",
    "matrix"
   ]
  },
  {
   "cell_type": "code",
   "execution_count": 27,
   "id": "crucial-fiber",
   "metadata": {},
   "outputs": [
    {
     "data": {
      "text/plain": [
       "array([ 8, 12], dtype=int64)"
      ]
     },
     "execution_count": 27,
     "metadata": {},
     "output_type": "execute_result"
    }
   ],
   "source": [
    "# obtener [[2, 3], [6, 7]]\n",
    "# Obtener una submatriz de las primeras dos filas y de las columnas 1 y 2\n",
    "matrix[1:3,3]"
   ]
  },
  {
   "cell_type": "code",
   "execution_count": 28,
   "id": "front-engagement",
   "metadata": {},
   "outputs": [
    {
     "data": {
      "text/plain": [
       "array([[2, 3],\n",
       "       [6, 7]], dtype=int64)"
      ]
     },
     "execution_count": 28,
     "metadata": {},
     "output_type": "execute_result"
    }
   ],
   "source": [
    "# Usar slicing trae un subarray del mismo orden que el original\n",
    "sub_matrix = matrix[:2, 1:3]\n",
    "sub_matrix"
   ]
  },
  {
   "cell_type": "code",
   "execution_count": 29,
   "id": "earned-fairy",
   "metadata": {},
   "outputs": [
    {
     "data": {
      "text/plain": [
       "2"
      ]
     },
     "execution_count": 29,
     "metadata": {},
     "output_type": "execute_result"
    }
   ],
   "source": [
    "# primera fila, segunda columna\n",
    "matrix[0, 1]"
   ]
  },
  {
   "cell_type": "code",
   "execution_count": 30,
   "id": "comparative-treatment",
   "metadata": {},
   "outputs": [],
   "source": [
    "# modificar un subarray altera la matriz principal\n",
    "matrix[1, 2] = 10\n",
    "matrix[1, 3] = 10"
   ]
  },
  {
   "cell_type": "code",
   "execution_count": 31,
   "id": "interested-teacher",
   "metadata": {},
   "outputs": [
    {
     "data": {
      "text/plain": [
       "array([[ 1,  2,  3,  4],\n",
       "       [ 5,  6, 10, 10],\n",
       "       [ 9, 10, 11, 12]], dtype=int64)"
      ]
     },
     "execution_count": 31,
     "metadata": {},
     "output_type": "execute_result"
    }
   ],
   "source": [
    "matrix"
   ]
  },
  {
   "cell_type": "code",
   "execution_count": 32,
   "id": "painted-problem",
   "metadata": {},
   "outputs": [
    {
     "data": {
      "text/plain": [
       "array([[ 2,  3],\n",
       "       [ 6, 10]], dtype=int64)"
      ]
     },
     "execution_count": 32,
     "metadata": {},
     "output_type": "execute_result"
    }
   ],
   "source": [
    "sub_matrix"
   ]
  },
  {
   "cell_type": "code",
   "execution_count": 33,
   "id": "configured-arizona",
   "metadata": {},
   "outputs": [],
   "source": [
    "sub_matrix[0] = np.array([5, 6])"
   ]
  },
  {
   "cell_type": "code",
   "execution_count": 34,
   "id": "buried-grocery",
   "metadata": {},
   "outputs": [
    {
     "data": {
      "text/plain": [
       "array([[ 5,  6],\n",
       "       [ 6, 10]], dtype=int64)"
      ]
     },
     "execution_count": 34,
     "metadata": {},
     "output_type": "execute_result"
    }
   ],
   "source": [
    "sub_matrix"
   ]
  },
  {
   "cell_type": "code",
   "execution_count": 35,
   "id": "matched-calendar",
   "metadata": {},
   "outputs": [
    {
     "data": {
      "text/plain": [
       "array([[ 1,  5,  6,  4],\n",
       "       [ 5,  6, 10, 10],\n",
       "       [ 9, 10, 11, 12]], dtype=int64)"
      ]
     },
     "execution_count": 35,
     "metadata": {},
     "output_type": "execute_result"
    }
   ],
   "source": [
    "matrix"
   ]
  },
  {
   "cell_type": "code",
   "execution_count": 36,
   "id": "whole-supplier",
   "metadata": {},
   "outputs": [
    {
     "data": {
      "text/plain": [
       "array([[ 5,  6, 10, 10],\n",
       "       [ 9, 10, 11, 12]], dtype=int64)"
      ]
     },
     "execution_count": 36,
     "metadata": {},
     "output_type": "execute_result"
    }
   ],
   "source": [
    "matrix[1:]"
   ]
  },
  {
   "cell_type": "code",
   "execution_count": 37,
   "id": "complimentary-metadata",
   "metadata": {},
   "outputs": [
    {
     "data": {
      "text/plain": [
       "array([ 4, 10, 12], dtype=int64)"
      ]
     },
     "execution_count": 37,
     "metadata": {},
     "output_type": "execute_result"
    }
   ],
   "source": [
    "matrix[:, -1]"
   ]
  },
  {
   "cell_type": "code",
   "execution_count": 38,
   "id": "competent-validation",
   "metadata": {},
   "outputs": [
    {
     "data": {
      "text/plain": [
       "array([[ 5,  6,  4],\n",
       "       [ 6, 10, 10],\n",
       "       [10, 11, 12]], dtype=int64)"
      ]
     },
     "execution_count": 38,
     "metadata": {},
     "output_type": "execute_result"
    }
   ],
   "source": [
    "matrix[:,1:]"
   ]
  },
  {
   "cell_type": "code",
   "execution_count": 39,
   "id": "professional-egyptian",
   "metadata": {},
   "outputs": [
    {
     "data": {
      "text/plain": [
       "array([[5, 6, 4]], dtype=int64)"
      ]
     },
     "execution_count": 39,
     "metadata": {},
     "output_type": "execute_result"
    }
   ],
   "source": [
    "matrix[0:1, 1:]"
   ]
  },
  {
   "cell_type": "code",
   "execution_count": 40,
   "id": "through-parker",
   "metadata": {},
   "outputs": [
    {
     "data": {
      "text/plain": [
       "array([5, 6, 4], dtype=int64)"
      ]
     },
     "execution_count": 40,
     "metadata": {},
     "output_type": "execute_result"
    }
   ],
   "source": [
    "matrix[0,1:]"
   ]
  },
  {
   "cell_type": "markdown",
   "id": "subsequent-dating",
   "metadata": {},
   "source": [
    "## Integer Slicing\n",
    "Usar un solo integer en la fila o la columna produce un array de orden inferior"
   ]
  },
  {
   "cell_type": "code",
   "execution_count": 41,
   "id": "undefined-therapy",
   "metadata": {},
   "outputs": [
    {
     "data": {
      "text/plain": [
       "array([ 5,  6, 10, 10], dtype=int64)"
      ]
     },
     "execution_count": 41,
     "metadata": {},
     "output_type": "execute_result"
    }
   ],
   "source": [
    "matrix[1]"
   ]
  },
  {
   "cell_type": "code",
   "execution_count": 42,
   "id": "circular-notion",
   "metadata": {},
   "outputs": [
    {
     "data": {
      "text/plain": [
       "array([ 5,  6, 10, 10], dtype=int64)"
      ]
     },
     "execution_count": 42,
     "metadata": {},
     "output_type": "execute_result"
    }
   ],
   "source": [
    "# obtener filas\n",
    "matrix[1, :]"
   ]
  },
  {
   "cell_type": "code",
   "execution_count": 43,
   "id": "perfect-simple",
   "metadata": {},
   "outputs": [
    {
     "data": {
      "text/plain": [
       "array([[ 5,  6, 10, 10]], dtype=int64)"
      ]
     },
     "execution_count": 43,
     "metadata": {},
     "output_type": "execute_result"
    }
   ],
   "source": [
    "matrix[1:2, :]"
   ]
  },
  {
   "cell_type": "code",
   "execution_count": 44,
   "id": "moderate-telescope",
   "metadata": {},
   "outputs": [
    {
     "data": {
      "text/plain": [
       "(1, 4)"
      ]
     },
     "execution_count": 44,
     "metadata": {},
     "output_type": "execute_result"
    }
   ],
   "source": [
    "matrix[1:2, :].shape"
   ]
  },
  {
   "cell_type": "code",
   "execution_count": 45,
   "id": "personal-alignment",
   "metadata": {},
   "outputs": [
    {
     "data": {
      "text/plain": [
       "array([ 6, 10, 11], dtype=int64)"
      ]
     },
     "execution_count": 45,
     "metadata": {},
     "output_type": "execute_result"
    }
   ],
   "source": [
    "# obtener la última columna\n",
    "matrix[:, 2]"
   ]
  },
  {
   "cell_type": "code",
   "execution_count": 46,
   "id": "broad-deposit",
   "metadata": {},
   "outputs": [
    {
     "data": {
      "text/plain": [
       "array([[ 4],\n",
       "       [10],\n",
       "       [12]], dtype=int64)"
      ]
     },
     "execution_count": 46,
     "metadata": {},
     "output_type": "execute_result"
    }
   ],
   "source": [
    "matrix[:, 3:]"
   ]
  },
  {
   "cell_type": "code",
   "execution_count": 47,
   "id": "cognitive-grammar",
   "metadata": {},
   "outputs": [
    {
     "data": {
      "text/plain": [
       "12"
      ]
     },
     "execution_count": 47,
     "metadata": {},
     "output_type": "execute_result"
    }
   ],
   "source": [
    "matrix[-1, -1]"
   ]
  },
  {
   "cell_type": "markdown",
   "id": "running-catalyst",
   "metadata": {},
   "source": [
    "# BOOLEAN INDEX\n",
    "Al aplicar una condición sobre un array, obtengo el mismo array pero con valores booleanos. Si ese array compuesto por booleanos se usa como indice, se obtiene un array de primera dimensión con todos los datos que cumplen con la condición.\n",
    "> Para obtener un array con las dimensiones iniciales, se usa `np.where`, pasando un valor default para aquellos valores que no cumplen con la condición"
   ]
  },
  {
   "cell_type": "code",
   "execution_count": 48,
   "id": "prescription-sierra",
   "metadata": {},
   "outputs": [
    {
     "data": {
      "text/plain": [
       "array([[False, False, False, False],\n",
       "       [False, False,  True,  True],\n",
       "       [ True,  True,  True,  True]])"
      ]
     },
     "execution_count": 48,
     "metadata": {},
     "output_type": "execute_result"
    }
   ],
   "source": [
    "bool_index = matrix > 6\n",
    "bool_index "
   ]
  },
  {
   "cell_type": "code",
   "execution_count": 49,
   "id": "systematic-importance",
   "metadata": {},
   "outputs": [
    {
     "data": {
      "text/plain": [
       "array([10, 10,  9, 10, 11, 12], dtype=int64)"
      ]
     },
     "execution_count": 49,
     "metadata": {},
     "output_type": "execute_result"
    }
   ],
   "source": [
    "# Devuelve un array 1D\n",
    "matrix[bool_index]"
   ]
  },
  {
   "cell_type": "code",
   "execution_count": 50,
   "id": "impossible-costs",
   "metadata": {},
   "outputs": [
    {
     "data": {
      "text/plain": [
       "array([[ 0,  0,  0,  0],\n",
       "       [ 0,  0, 10, 10],\n",
       "       [ 9, 10, 11, 12]], dtype=int64)"
      ]
     },
     "execution_count": 50,
     "metadata": {},
     "output_type": "execute_result"
    }
   ],
   "source": [
    "np.where(matrix > 6, matrix, 0)"
   ]
  },
  {
   "cell_type": "code",
   "execution_count": 51,
   "id": "dental-tuning",
   "metadata": {},
   "outputs": [
    {
     "data": {
      "text/plain": [
       "True"
      ]
     },
     "execution_count": 51,
     "metadata": {},
     "output_type": "execute_result"
    }
   ],
   "source": [
    "np.any(matrix > 6)"
   ]
  },
  {
   "cell_type": "code",
   "execution_count": 52,
   "id": "biological-campus",
   "metadata": {},
   "outputs": [
    {
     "data": {
      "text/plain": [
       "False"
      ]
     },
     "execution_count": 52,
     "metadata": {},
     "output_type": "execute_result"
    }
   ],
   "source": [
    "np.all(matrix>6)"
   ]
  },
  {
   "cell_type": "code",
   "execution_count": 53,
   "id": "identical-somalia",
   "metadata": {},
   "outputs": [
    {
     "data": {
      "text/plain": [
       "array([1, 5, 6, 4, 5, 6], dtype=int64)"
      ]
     },
     "execution_count": 53,
     "metadata": {},
     "output_type": "execute_result"
    }
   ],
   "source": [
    "matrix[~(matrix > 6)]"
   ]
  },
  {
   "cell_type": "code",
   "execution_count": 54,
   "id": "executed-stationery",
   "metadata": {},
   "outputs": [
    {
     "data": {
      "text/plain": [
       "array([False,  True,  True])"
      ]
     },
     "execution_count": 54,
     "metadata": {},
     "output_type": "execute_result"
    }
   ],
   "source": [
    "np.any(matrix > 6, axis=1)"
   ]
  },
  {
   "cell_type": "markdown",
   "id": "stunning-excerpt",
   "metadata": {},
   "source": [
    "# FANCY INDEXING\n",
    "Se usa para acceder a multiples elementos pasando listas de integers"
   ]
  },
  {
   "cell_type": "code",
   "execution_count": 55,
   "id": "ecological-animal",
   "metadata": {},
   "outputs": [
    {
     "data": {
      "text/plain": [
       "array([-1,  0,  1,  2,  3,  4,  5,  6,  7])"
      ]
     },
     "execution_count": 55,
     "metadata": {},
     "output_type": "execute_result"
    }
   ],
   "source": [
    "array = np.arange(-1, 8)\n",
    "array"
   ]
  },
  {
   "cell_type": "code",
   "execution_count": 56,
   "id": "sufficient-google",
   "metadata": {},
   "outputs": [
    {
     "data": {
      "text/plain": [
       "array([0, 1, 3])"
      ]
     },
     "execution_count": 56,
     "metadata": {},
     "output_type": "execute_result"
    }
   ],
   "source": [
    "array[[1, 2, 4]]"
   ]
  },
  {
   "cell_type": "code",
   "execution_count": 57,
   "id": "dirty-arlington",
   "metadata": {},
   "outputs": [
    {
     "data": {
      "text/plain": [
       "array([[1],\n",
       "       [3],\n",
       "       [5],\n",
       "       [7]], dtype=int64)"
      ]
     },
     "execution_count": 57,
     "metadata": {},
     "output_type": "execute_result"
    }
   ],
   "source": [
    "# para obtener los indices que cumplen cierta condición\n",
    "# se usa el método argwhere\n",
    "even_indexes = np.argwhere(array % 2 == 0)\n",
    "even_indexes"
   ]
  },
  {
   "cell_type": "code",
   "execution_count": 58,
   "id": "cultural-cisco",
   "metadata": {},
   "outputs": [
    {
     "data": {
      "text/plain": [
       "array([1, 3, 5, 7], dtype=int64)"
      ]
     },
     "execution_count": 58,
     "metadata": {},
     "output_type": "execute_result"
    }
   ],
   "source": [
    "even_indexes = even_indexes.flatten()\n",
    "even_indexes"
   ]
  },
  {
   "cell_type": "code",
   "execution_count": 59,
   "id": "adequate-nightmare",
   "metadata": {},
   "outputs": [
    {
     "data": {
      "text/plain": [
       "array([0, 2, 4, 6])"
      ]
     },
     "execution_count": 59,
     "metadata": {},
     "output_type": "execute_result"
    }
   ],
   "source": [
    "# obtengo todos los pares\n",
    "array[even_indexes]"
   ]
  },
  {
   "cell_type": "code",
   "execution_count": 60,
   "id": "educated-lexington",
   "metadata": {},
   "outputs": [
    {
     "data": {
      "text/plain": [
       "array([[ 1,  5,  6,  4],\n",
       "       [ 5,  6, 10, 10],\n",
       "       [ 9, 10, 11, 12]], dtype=int64)"
      ]
     },
     "execution_count": 60,
     "metadata": {},
     "output_type": "execute_result"
    }
   ],
   "source": [
    "# con matrices\n",
    "matrix"
   ]
  },
  {
   "cell_type": "code",
   "execution_count": 61,
   "id": "structured-topic",
   "metadata": {},
   "outputs": [
    {
     "data": {
      "text/plain": [
       "array([ 5, 10,  5], dtype=int64)"
      ]
     },
     "execution_count": 61,
     "metadata": {},
     "output_type": "execute_result"
    }
   ],
   "source": [
    "matrix[[0, 1, 1], [1, 2, 0]]"
   ]
  },
  {
   "cell_type": "code",
   "execution_count": 62,
   "id": "confidential-limitation",
   "metadata": {},
   "outputs": [
    {
     "name": "stdout",
     "output_type": "stream",
     "text": [
      "[ 5 10  5]\n"
     ]
    }
   ],
   "source": [
    "# es lo mismo que\n",
    "print(np.array([matrix[0, 1], matrix[1, 2], matrix[1, 0]]))"
   ]
  },
  {
   "cell_type": "code",
   "execution_count": 63,
   "id": "terminal-zimbabwe",
   "metadata": {},
   "outputs": [
    {
     "data": {
      "text/plain": [
       "array([5, 5], dtype=int64)"
      ]
     },
     "execution_count": 63,
     "metadata": {},
     "output_type": "execute_result"
    }
   ],
   "source": [
    "# reusar el mismo elemento\n",
    "matrix[[0, 0], [1, 1]]"
   ]
  },
  {
   "cell_type": "code",
   "execution_count": 64,
   "id": "understanding-subscriber",
   "metadata": {},
   "outputs": [
    {
     "data": {
      "text/plain": [
       "array([5, 5], dtype=int64)"
      ]
     },
     "execution_count": 64,
     "metadata": {},
     "output_type": "execute_result"
    }
   ],
   "source": [
    "np.array([matrix[0, 1], matrix[0, 1]])"
   ]
  },
  {
   "cell_type": "code",
   "execution_count": 65,
   "id": "adopted-parks",
   "metadata": {},
   "outputs": [
    {
     "data": {
      "text/plain": [
       "array([ True,  True])"
      ]
     },
     "execution_count": 65,
     "metadata": {},
     "output_type": "execute_result"
    }
   ],
   "source": [
    "np.array([matrix[0, 1], matrix[0, 1]]) == matrix[[0, 0], [1, 1]]"
   ]
  },
  {
   "cell_type": "code",
   "execution_count": 66,
   "id": "cultural-stone",
   "metadata": {},
   "outputs": [
    {
     "data": {
      "text/plain": [
       "array([[ 1,  2,  3],\n",
       "       [ 4,  5,  6],\n",
       "       [ 7,  8,  9],\n",
       "       [10, 11, 12]])"
      ]
     },
     "execution_count": 66,
     "metadata": {},
     "output_type": "execute_result"
    }
   ],
   "source": [
    "# alterar un elemento de cada fila\n",
    "new_matrix = np.arange(1, 13).reshape((4, 3))\n",
    "new_matrix"
   ]
  },
  {
   "cell_type": "code",
   "execution_count": 67,
   "id": "identical-innocent",
   "metadata": {},
   "outputs": [],
   "source": [
    "b = np.array([0, 2, 0, 1])"
   ]
  },
  {
   "cell_type": "code",
   "execution_count": 68,
   "id": "increased-kernel",
   "metadata": {},
   "outputs": [
    {
     "data": {
      "text/plain": [
       "array([ 1,  6,  7, 11])"
      ]
     },
     "execution_count": 68,
     "metadata": {},
     "output_type": "execute_result"
    }
   ],
   "source": [
    "new_matrix[np.arange(4), b]"
   ]
  },
  {
   "cell_type": "code",
   "execution_count": 69,
   "id": "attached-quality",
   "metadata": {},
   "outputs": [],
   "source": [
    "# alterar esos elementos sumandoles 15\n",
    "new_matrix[np.arange(4), b] += 15"
   ]
  },
  {
   "cell_type": "code",
   "execution_count": 70,
   "id": "dedicated-archives",
   "metadata": {},
   "outputs": [
    {
     "data": {
      "text/plain": [
       "array([[16,  2,  3],\n",
       "       [ 4,  5, 21],\n",
       "       [22,  8,  9],\n",
       "       [10, 26, 12]])"
      ]
     },
     "execution_count": 70,
     "metadata": {},
     "output_type": "execute_result"
    }
   ],
   "source": [
    "new_matrix"
   ]
  },
  {
   "cell_type": "markdown",
   "id": "third-validation",
   "metadata": {},
   "source": [
    "# CONCATENATION\n",
    "Para concatenar dos arrays, se usa la función `np.concatenate`, pasando una tupla con todos los arrays que se desean concatenar\n",
    "- Concatenar todos los arrays en forma 1D con `axis=None`\n",
    "- Concatenar agregando una fila con `axis=0`\n",
    "- Concatenar una columna con `axis=1`\n",
    "> Los arrays pasados al método deben tener la misma dimensión"
   ]
  },
  {
   "cell_type": "code",
   "execution_count": 71,
   "id": "federal-deadline",
   "metadata": {},
   "outputs": [
    {
     "data": {
      "text/plain": [
       "array([0., 1., 2., 3., 4., 5., 0., 1., 2., 3., 4., 5., 6., 7., 1., 2., 3.,\n",
       "       4., 5.])"
      ]
     },
     "execution_count": 71,
     "metadata": {},
     "output_type": "execute_result"
    }
   ],
   "source": [
    "arr = np.arange(6)\n",
    "dec = np.arange(8)\n",
    "np.concatenate((arr, dec, np.linspace(1, 5, 5)))"
   ]
  },
  {
   "cell_type": "code",
   "execution_count": 72,
   "id": "modular-likelihood",
   "metadata": {},
   "outputs": [
    {
     "data": {
      "text/plain": [
       "array([[ 1,  5,  6,  4],\n",
       "       [ 5,  6, 10, 10],\n",
       "       [ 9, 10, 11, 12]], dtype=int64)"
      ]
     },
     "execution_count": 72,
     "metadata": {},
     "output_type": "execute_result"
    }
   ],
   "source": [
    "matrix"
   ]
  },
  {
   "cell_type": "code",
   "execution_count": 73,
   "id": "sticky-frederick",
   "metadata": {},
   "outputs": [
    {
     "ename": "ValueError",
     "evalue": "all the input arrays must have same number of dimensions, but the array at index 0 has 2 dimension(s) and the array at index 1 has 1 dimension(s)",
     "output_type": "error",
     "traceback": [
      "\u001b[1;31m---------------------------------------------------------------------------\u001b[0m",
      "\u001b[1;31mValueError\u001b[0m                                Traceback (most recent call last)",
      "\u001b[1;32m<ipython-input-73-449ca5974ef3>\u001b[0m in \u001b[0;36m<module>\u001b[1;34m\u001b[0m\n\u001b[1;32m----> 1\u001b[1;33m \u001b[0mnp\u001b[0m\u001b[1;33m.\u001b[0m\u001b[0mconcatenate\u001b[0m\u001b[1;33m(\u001b[0m\u001b[1;33m(\u001b[0m\u001b[0mmatrix\u001b[0m\u001b[1;33m,\u001b[0m \u001b[0mnp\u001b[0m\u001b[1;33m.\u001b[0m\u001b[0marange\u001b[0m\u001b[1;33m(\u001b[0m\u001b[1;36m4\u001b[0m\u001b[1;33m)\u001b[0m\u001b[1;33m)\u001b[0m\u001b[1;33m,\u001b[0m \u001b[0maxis\u001b[0m\u001b[1;33m=\u001b[0m\u001b[1;36m0\u001b[0m\u001b[1;33m)\u001b[0m\u001b[1;33m\u001b[0m\u001b[1;33m\u001b[0m\u001b[0m\n\u001b[0m",
      "\u001b[1;32m<__array_function__ internals>\u001b[0m in \u001b[0;36mconcatenate\u001b[1;34m(*args, **kwargs)\u001b[0m\n",
      "\u001b[1;31mValueError\u001b[0m: all the input arrays must have same number of dimensions, but the array at index 0 has 2 dimension(s) and the array at index 1 has 1 dimension(s)"
     ]
    }
   ],
   "source": [
    "np.concatenate((matrix, np.arange(4)), axis=0)"
   ]
  },
  {
   "cell_type": "code",
   "execution_count": 74,
   "id": "primary-conversation",
   "metadata": {},
   "outputs": [
    {
     "data": {
      "text/plain": [
       "array([[ 1,  5,  6,  4],\n",
       "       [ 5,  6, 10, 10],\n",
       "       [ 9, 10, 11, 12],\n",
       "       [ 0,  1,  2,  3]], dtype=int64)"
      ]
     },
     "execution_count": 74,
     "metadata": {},
     "output_type": "execute_result"
    }
   ],
   "source": [
    "np.concatenate((matrix, np.arange(4).reshape(1, 4)), axis=0)"
   ]
  },
  {
   "cell_type": "code",
   "execution_count": 75,
   "id": "hawaiian-plate",
   "metadata": {},
   "outputs": [
    {
     "data": {
      "text/plain": [
       "array([[ 1,  5,  6,  4,  0],\n",
       "       [ 5,  6, 10, 10,  1],\n",
       "       [ 9, 10, 11, 12,  2]], dtype=int64)"
      ]
     },
     "execution_count": 75,
     "metadata": {},
     "output_type": "execute_result"
    }
   ],
   "source": [
    "np.concatenate((matrix, np.arange(3).reshape(3, 1)), axis=1)"
   ]
  },
  {
   "cell_type": "code",
   "execution_count": 76,
   "id": "accessible-agriculture",
   "metadata": {},
   "outputs": [
    {
     "data": {
      "text/plain": [
       "array([[0],\n",
       "       [1],\n",
       "       [2]])"
      ]
     },
     "execution_count": 76,
     "metadata": {},
     "output_type": "execute_result"
    }
   ],
   "source": [
    "np.arange(3).reshape(1, 3).T"
   ]
  },
  {
   "cell_type": "code",
   "execution_count": 77,
   "id": "upper-cleveland",
   "metadata": {},
   "outputs": [
    {
     "data": {
      "text/plain": [
       "array([-1,  0,  1,  2,  3,  4,  5,  6,  7])"
      ]
     },
     "execution_count": 77,
     "metadata": {},
     "output_type": "execute_result"
    }
   ],
   "source": [
    "# append\n",
    "array"
   ]
  },
  {
   "cell_type": "code",
   "execution_count": 78,
   "id": "further-amateur",
   "metadata": {},
   "outputs": [
    {
     "data": {
      "text/plain": [
       "array([-1,  0,  1,  2,  3,  4,  5,  6,  7,  8])"
      ]
     },
     "execution_count": 78,
     "metadata": {},
     "output_type": "execute_result"
    }
   ],
   "source": [
    "np.append(array, 8)"
   ]
  },
  {
   "cell_type": "code",
   "execution_count": 79,
   "id": "certified-algorithm",
   "metadata": {},
   "outputs": [
    {
     "data": {
      "text/plain": [
       "array([-1,  0,  1,  7,  2,  3,  4,  5,  6,  7])"
      ]
     },
     "execution_count": 79,
     "metadata": {},
     "output_type": "execute_result"
    }
   ],
   "source": [
    "np.insert(array, 3, 7)"
   ]
  },
  {
   "cell_type": "code",
   "execution_count": 80,
   "id": "greatest-render",
   "metadata": {},
   "outputs": [
    {
     "data": {
      "text/plain": [
       "array([ 2, -1,  0,  1,  2,  3,  4,  4,  5,  6,  3,  7])"
      ]
     },
     "execution_count": 80,
     "metadata": {},
     "output_type": "execute_result"
    }
   ],
   "source": [
    "np.insert(array, [0, -1, 5], [2, 3, 4])"
   ]
  },
  {
   "cell_type": "code",
   "execution_count": 81,
   "id": "equal-smoke",
   "metadata": {},
   "outputs": [
    {
     "data": {
      "text/plain": [
       "array([0., 1., 2., 3., 4., 0., 1., 2., 3., 4.])"
      ]
     },
     "execution_count": 81,
     "metadata": {},
     "output_type": "execute_result"
    }
   ],
   "source": [
    "# apilar horizontalmente\n",
    "np.hstack((np.arange(5), np.linspace(0, 4, 5)))"
   ]
  },
  {
   "cell_type": "code",
   "execution_count": 82,
   "id": "naughty-economics",
   "metadata": {},
   "outputs": [
    {
     "data": {
      "text/plain": [
       "array([[1, 2, 1, 2],\n",
       "       [3, 4, 3, 4]])"
      ]
     },
     "execution_count": 82,
     "metadata": {},
     "output_type": "execute_result"
    }
   ],
   "source": [
    "m1 = np.array([\n",
    "    [1, 2],\n",
    "    [3, 4]\n",
    "])\n",
    "\n",
    "m2 = np.array([\n",
    "    [1, 2],\n",
    "    [3, 4]\n",
    "])\n",
    "\n",
    "np.hstack((m1, m2))"
   ]
  },
  {
   "cell_type": "code",
   "execution_count": 83,
   "id": "executed-biography",
   "metadata": {},
   "outputs": [
    {
     "data": {
      "text/plain": [
       "array([[0, 1, 2, 3],\n",
       "       [0, 1, 2, 3]])"
      ]
     },
     "execution_count": 83,
     "metadata": {},
     "output_type": "execute_result"
    }
   ],
   "source": [
    "# apilar verticalmente\n",
    "np.vstack((np.arange(4), np.arange(4)))"
   ]
  },
  {
   "cell_type": "code",
   "execution_count": 84,
   "id": "radical-preference",
   "metadata": {},
   "outputs": [
    {
     "data": {
      "text/plain": [
       "array([[1, 2],\n",
       "       [3, 4],\n",
       "       [1, 2],\n",
       "       [3, 4]])"
      ]
     },
     "execution_count": 84,
     "metadata": {},
     "output_type": "execute_result"
    }
   ],
   "source": [
    "np.vstack((m1, m2))"
   ]
  },
  {
   "cell_type": "markdown",
   "id": "competitive-flight",
   "metadata": {},
   "source": [
    "# BROADCASTING\n",
    "Funcionalidad de NumPy que permite realizar operaciones entre arrays de diferentes dimensiones\n",
    "> Frecuentemente se tiene un array de menor dimensión a otro, y se requiere que este sea utilizado para realizar multiples operaciones en el array de mayor dimensión"
   ]
  },
  {
   "cell_type": "code",
   "execution_count": 85,
   "id": "religious-ecuador",
   "metadata": {},
   "outputs": [
    {
     "data": {
      "text/plain": [
       "array([[ 1,  5,  6,  4],\n",
       "       [ 5,  6, 10, 10],\n",
       "       [ 9, 10, 11, 12]], dtype=int64)"
      ]
     },
     "execution_count": 85,
     "metadata": {},
     "output_type": "execute_result"
    }
   ],
   "source": [
    "matrix"
   ]
  },
  {
   "cell_type": "code",
   "execution_count": 86,
   "id": "excited-southwest",
   "metadata": {},
   "outputs": [
    {
     "data": {
      "text/plain": [
       "array([[ 1,  6,  8,  7],\n",
       "       [ 5,  7, 12, 13],\n",
       "       [ 9, 11, 13, 15]], dtype=int64)"
      ]
     },
     "execution_count": 86,
     "metadata": {},
     "output_type": "execute_result"
    }
   ],
   "source": [
    "matrix + np.arange(4)"
   ]
  },
  {
   "cell_type": "markdown",
   "id": "greatest-austin",
   "metadata": {},
   "source": [
    "# RULES\n",
    "* If the arrays do not have the same rank, prepend the shape of the lower rank array with 1s until both shapes have the same length.\n",
    "* The two arrays are said to be compatible in a dimension if they have the same size in the dimension, or if one of the arrays has size 1 in that dimension.\n",
    "* The arrays can be broadcast together if they are compatible in all dimensions.\n",
    "* After broadcasting, each array behaves as if it had shape equal to the elementwise maximum of shapes of the two input arrays.\n",
    "* In any dimension where one array had size 1 and the other array had size greater than 1, the first array behaves as if it were copied along that dimension\n",
    "> Funciones que permiten [usar BroadCasting](https://numpy.org/doc/stable/reference/ufuncs.html#available-ufuncs). Also [Numpy Documentation](https://numpy.org/doc/stable/user/basics.broadcasting.html)"
   ]
  },
  {
   "cell_type": "code",
   "execution_count": 87,
   "id": "historic-round",
   "metadata": {},
   "outputs": [],
   "source": [
    "v = np.array([1,2,3])  # v has shape (3,)\n",
    "w = np.array([4,5])    # w has shape (2,)"
   ]
  },
  {
   "cell_type": "code",
   "execution_count": 88,
   "id": "proper-legend",
   "metadata": {},
   "outputs": [
    {
     "data": {
      "text/plain": [
       "array([[ 4,  5],\n",
       "       [ 8, 10],\n",
       "       [12, 15]])"
      ]
     },
     "execution_count": 88,
     "metadata": {},
     "output_type": "execute_result"
    }
   ],
   "source": [
    "np.reshape(v, (3, 1)) * w"
   ]
  },
  {
   "cell_type": "code",
   "execution_count": 89,
   "id": "harmful-blocking",
   "metadata": {},
   "outputs": [
    {
     "data": {
      "text/plain": [
       "array([[2, 4, 6],\n",
       "       [5, 7, 9]])"
      ]
     },
     "execution_count": 89,
     "metadata": {},
     "output_type": "execute_result"
    }
   ],
   "source": [
    "x = np.array([[1,2,3], [4,5,6]])\n",
    "x + v"
   ]
  },
  {
   "cell_type": "code",
   "execution_count": 90,
   "id": "comparative-scottish",
   "metadata": {},
   "outputs": [
    {
     "data": {
      "text/plain": [
       "array([[ 5,  6,  7],\n",
       "       [ 9, 10, 11]])"
      ]
     },
     "execution_count": 90,
     "metadata": {},
     "output_type": "execute_result"
    }
   ],
   "source": [
    "(x.T + w).T"
   ]
  },
  {
   "cell_type": "code",
   "execution_count": 91,
   "id": "headed-cleanup",
   "metadata": {},
   "outputs": [
    {
     "data": {
      "text/plain": [
       "array([[ 5,  6,  7],\n",
       "       [ 9, 10, 11]])"
      ]
     },
     "execution_count": 91,
     "metadata": {},
     "output_type": "execute_result"
    }
   ],
   "source": [
    "x + np.reshape(w, (2, 1))"
   ]
  },
  {
   "cell_type": "code",
   "execution_count": 92,
   "id": "aboriginal-cooking",
   "metadata": {},
   "outputs": [
    {
     "data": {
      "text/plain": [
       "array([[ 2,  4,  6],\n",
       "       [ 8, 10, 12]])"
      ]
     },
     "execution_count": 92,
     "metadata": {},
     "output_type": "execute_result"
    }
   ],
   "source": [
    "x * 2"
   ]
  },
  {
   "cell_type": "markdown",
   "id": "canadian-shaft",
   "metadata": {},
   "source": [
    "# MÁS FUNCIONES"
   ]
  },
  {
   "cell_type": "code",
   "execution_count": 93,
   "id": "julian-lender",
   "metadata": {},
   "outputs": [
    {
     "data": {
      "text/plain": [
       "array([[[0, 0, 0],\n",
       "        [1, 1, 1],\n",
       "        [2, 2, 2]],\n",
       "\n",
       "       [[0, 1, 2],\n",
       "        [0, 1, 2],\n",
       "        [0, 1, 2]]])"
      ]
     },
     "execution_count": 93,
     "metadata": {},
     "output_type": "execute_result"
    }
   ],
   "source": [
    "# Esto es particularmente útil para evaluar funciones de múltiples dimensiones en una cuadrícula regular\n",
    "np.indices((3,3))"
   ]
  },
  {
   "cell_type": "code",
   "execution_count": 94,
   "id": "quick-senate",
   "metadata": {},
   "outputs": [
    {
     "data": {
      "text/plain": [
       "array([[[0, 0, 0, 0, 0],\n",
       "        [1, 1, 1, 1, 1],\n",
       "        [2, 2, 2, 2, 2],\n",
       "        [3, 3, 3, 3, 3],\n",
       "        [4, 4, 4, 4, 4],\n",
       "        [5, 5, 5, 5, 5]],\n",
       "\n",
       "       [[0, 1, 2, 3, 4],\n",
       "        [0, 1, 2, 3, 4],\n",
       "        [0, 1, 2, 3, 4],\n",
       "        [0, 1, 2, 3, 4],\n",
       "        [0, 1, 2, 3, 4],\n",
       "        [0, 1, 2, 3, 4]]])"
      ]
     },
     "execution_count": 94,
     "metadata": {},
     "output_type": "execute_result"
    }
   ],
   "source": [
    "np.indices((6,5))"
   ]
  },
  {
   "cell_type": "code",
   "execution_count": 95,
   "id": "ideal-salem",
   "metadata": {},
   "outputs": [
    {
     "data": {
      "text/plain": [
       "array([[0, 1, 2, 3, 4],\n",
       "       [5, 6, 7, 8, 9]])"
      ]
     },
     "execution_count": 95,
     "metadata": {},
     "output_type": "execute_result"
    }
   ],
   "source": [
    "# sum\n",
    "a = np.arange(5)\n",
    "b = np.arange(5, 10)\n",
    "c = np.vstack((a, b))\n",
    "c"
   ]
  },
  {
   "cell_type": "code",
   "execution_count": 96,
   "id": "popular-setting",
   "metadata": {},
   "outputs": [
    {
     "data": {
      "text/plain": [
       "45"
      ]
     },
     "execution_count": 96,
     "metadata": {},
     "output_type": "execute_result"
    }
   ],
   "source": [
    "# default = None\n",
    "c.sum()"
   ]
  },
  {
   "cell_type": "code",
   "execution_count": 97,
   "id": "legislative-ridge",
   "metadata": {},
   "outputs": [
    {
     "data": {
      "text/plain": [
       "45"
      ]
     },
     "execution_count": 97,
     "metadata": {},
     "output_type": "execute_result"
    }
   ],
   "source": [
    "c.sum(axis=None)"
   ]
  },
  {
   "cell_type": "code",
   "execution_count": 98,
   "id": "pacific-bosnia",
   "metadata": {},
   "outputs": [
    {
     "data": {
      "text/plain": [
       "array([ 5,  7,  9, 11, 13])"
      ]
     },
     "execution_count": 98,
     "metadata": {},
     "output_type": "execute_result"
    }
   ],
   "source": [
    "# suma de columnas\n",
    "c.sum(axis=0)"
   ]
  },
  {
   "cell_type": "code",
   "execution_count": 99,
   "id": "tender-hepatitis",
   "metadata": {},
   "outputs": [
    {
     "data": {
      "text/plain": [
       "array([10, 35])"
      ]
     },
     "execution_count": 99,
     "metadata": {},
     "output_type": "execute_result"
    }
   ],
   "source": [
    "c.sum(axis=1)"
   ]
  },
  {
   "cell_type": "code",
   "execution_count": 100,
   "id": "advised-appointment",
   "metadata": {},
   "outputs": [
    {
     "data": {
      "text/plain": [
       "4.5"
      ]
     },
     "execution_count": 100,
     "metadata": {},
     "output_type": "execute_result"
    }
   ],
   "source": [
    "c.mean(axis=None)"
   ]
  },
  {
   "cell_type": "code",
   "execution_count": 101,
   "id": "quality-hormone",
   "metadata": {},
   "outputs": [
    {
     "data": {
      "text/plain": [
       "array([2.5, 3.5, 4.5, 5.5, 6.5])"
      ]
     },
     "execution_count": 101,
     "metadata": {},
     "output_type": "execute_result"
    }
   ],
   "source": [
    "c.mean(axis=0)"
   ]
  },
  {
   "cell_type": "code",
   "execution_count": 102,
   "id": "protecting-nature",
   "metadata": {},
   "outputs": [
    {
     "data": {
      "text/plain": [
       "array([2., 7.])"
      ]
     },
     "execution_count": 102,
     "metadata": {},
     "output_type": "execute_result"
    }
   ],
   "source": [
    "c.mean(axis=1)"
   ]
  },
  {
   "cell_type": "code",
   "execution_count": 103,
   "id": "whole-dividend",
   "metadata": {},
   "outputs": [],
   "source": [
    "#std, var, min, max, median\n",
    "\n",
    "#For a more comprehensive list of statistical functions (e.g. calculating percentiles, creating histograms, etc.), check out the NumPy statistics page."
   ]
  },
  {
   "cell_type": "code",
   "execution_count": 104,
   "id": "satellite-biotechnology",
   "metadata": {},
   "outputs": [
    {
     "data": {
      "text/plain": [
       "array([[0, 1, 2, 3, 4],\n",
       "       [5, 6, 7, 8, 9]])"
      ]
     },
     "execution_count": 104,
     "metadata": {},
     "output_type": "execute_result"
    }
   ],
   "source": [
    "c"
   ]
  },
  {
   "cell_type": "code",
   "execution_count": 105,
   "id": "musical-consultation",
   "metadata": {},
   "outputs": [
    {
     "data": {
      "text/plain": [
       "array([[0, 1, 2, 3, 4],\n",
       "       [5, 6, 7, 8, 9],\n",
       "       [0, 1, 2, 3, 4],\n",
       "       [5, 6, 7, 8, 9],\n",
       "       [0, 1, 2, 3, 4],\n",
       "       [5, 6, 7, 8, 9],\n",
       "       [0, 1, 2, 3, 4],\n",
       "       [5, 6, 7, 8, 9]])"
      ]
     },
     "execution_count": 105,
     "metadata": {},
     "output_type": "execute_result"
    }
   ],
   "source": [
    "np.tile(c, (4, 1))"
   ]
  },
  {
   "cell_type": "code",
   "execution_count": 106,
   "id": "modern-least",
   "metadata": {},
   "outputs": [
    {
     "data": {
      "text/plain": [
       "array([[0, 1, 2, 3, 4, 0, 1, 2, 3, 4],\n",
       "       [5, 6, 7, 8, 9, 5, 6, 7, 8, 9],\n",
       "       [0, 1, 2, 3, 4, 0, 1, 2, 3, 4],\n",
       "       [5, 6, 7, 8, 9, 5, 6, 7, 8, 9]])"
      ]
     },
     "execution_count": 106,
     "metadata": {},
     "output_type": "execute_result"
    }
   ],
   "source": [
    "np.tile(c, (2, 2))"
   ]
  },
  {
   "cell_type": "code",
   "execution_count": 107,
   "id": "smaller-voltage",
   "metadata": {},
   "outputs": [
    {
     "name": "stdout",
     "output_type": "stream",
     "text": [
      "5\n",
      "array([[15, 75],\n",
      "       [12, 78]])\n",
      "8\n",
      "array([[18, 75],\n",
      "       [25, 46]])\n",
      "5\n",
      "array([[15, 75],\n",
      "       [12, 78]])\n"
     ]
    }
   ],
   "source": [
    "np.random.seed(1)\n",
    "print(np.random.randint(10))\n",
    "random_arr = np.random.randint(3, high=100,\n",
    "                               size=(2, 2))\n",
    "print(repr(random_arr))\n",
    "\n",
    "# New seed\n",
    "np.random.seed(2)\n",
    "print(np.random.randint(10))\n",
    "random_arr = np.random.randint(3, high=100,\n",
    "                               size=(2, 2))\n",
    "print(repr(random_arr))\n",
    "\n",
    "# Original seed\n",
    "np.random.seed(1)\n",
    "print(np.random.randint(10))\n",
    "random_arr = np.random.randint(3, high=100,\n",
    "                               size=(2, 2))\n",
    "print(repr(random_arr))"
   ]
  },
  {
   "cell_type": "code",
   "execution_count": 108,
   "id": "australian-jenny",
   "metadata": {},
   "outputs": [
    {
     "name": "stdout",
     "output_type": "stream",
     "text": [
      "array([3, 4, 2, 5, 1])\n",
      "array([5, 3, 4, 2, 1])\n",
      "array([[4, 5, 6],\n",
      "       [7, 8, 9],\n",
      "       [1, 2, 3]])\n"
     ]
    }
   ],
   "source": [
    "vec = np.array([1, 2, 3, 4, 5])\n",
    "np.random.shuffle(vec)\n",
    "print(repr(vec))\n",
    "np.random.shuffle(vec)\n",
    "print(repr(vec))\n",
    "\n",
    "matrix = np.array([[1, 2, 3],\n",
    "                   [4, 5, 6],\n",
    "                   [7, 8, 9]])\n",
    "np.random.shuffle(matrix)\n",
    "print(repr(matrix))"
   ]
  },
  {
   "cell_type": "markdown",
   "id": "severe-aggregate",
   "metadata": {},
   "source": [
    "# MORE SLICING\n",
    "![array](array.png)"
   ]
  },
  {
   "cell_type": "code",
   "execution_count": 109,
   "id": "entitled-founder",
   "metadata": {},
   "outputs": [
    {
     "data": {
      "text/plain": [
       "array([[ 1,  2,  3,  4,  5],\n",
       "       [ 6,  7,  8,  9, 10],\n",
       "       [11, 12, 13, 14, 15],\n",
       "       [16, 17, 18, 19, 20],\n",
       "       [21, 22, 23, 24, 25],\n",
       "       [26, 27, 28, 29, 30]])"
      ]
     },
     "execution_count": 109,
     "metadata": {},
     "output_type": "execute_result"
    }
   ],
   "source": [
    "final_matrix = np.arange(1, 31).reshape(6, 5)\n",
    "final_matrix"
   ]
  },
  {
   "cell_type": "code",
   "execution_count": 110,
   "id": "fitted-salmon",
   "metadata": {},
   "outputs": [
    {
     "data": {
      "text/plain": [
       "array([[11, 12],\n",
       "       [16, 17]])"
      ]
     },
     "execution_count": 110,
     "metadata": {},
     "output_type": "execute_result"
    }
   ],
   "source": [
    "submatrix_1 = final_matrix[2:4, 0:2]\n",
    "submatrix_1"
   ]
  },
  {
   "cell_type": "code",
   "execution_count": 113,
   "id": "shared-trader",
   "metadata": {},
   "outputs": [
    {
     "data": {
      "text/plain": [
       "array([ 2,  8, 14, 20])"
      ]
     },
     "execution_count": 113,
     "metadata": {},
     "output_type": "execute_result"
    }
   ],
   "source": [
    "vector = final_matrix[np.arange(4), np.arange(1, 5)]\n",
    "vector"
   ]
  },
  {
   "cell_type": "code",
   "execution_count": 124,
   "id": "developed-michael",
   "metadata": {},
   "outputs": [
    {
     "data": {
      "text/plain": [
       "array([[ 4,  5],\n",
       "       [24, 25],\n",
       "       [29, 30]])"
      ]
     },
     "execution_count": 124,
     "metadata": {},
     "output_type": "execute_result"
    }
   ],
   "source": [
    "final_matrix[[0, 4, 5], 3:]"
   ]
  },
  {
   "cell_type": "code",
   "execution_count": 125,
   "id": "palestinian-chick",
   "metadata": {},
   "outputs": [],
   "source": [
    "# crear el siguiente array\n",
    "mat = np.array([\n",
    "    [1, 1, 1, 1, 1],\n",
    "    [1, 0, 0, 0, 1],\n",
    "    [1, 0, 9, 0, 1],\n",
    "    [1, 0, 0, 0, 1],\n",
    "    [1, 1, 1, 1, 1],\n",
    "])"
   ]
  },
  {
   "cell_type": "code",
   "execution_count": 126,
   "id": "severe-backing",
   "metadata": {},
   "outputs": [
    {
     "data": {
      "text/plain": [
       "array([[1., 1., 1., 1., 1.],\n",
       "       [1., 1., 1., 1., 1.],\n",
       "       [1., 1., 1., 1., 1.],\n",
       "       [1., 1., 1., 1., 1.],\n",
       "       [1., 1., 1., 1., 1.]])"
      ]
     },
     "execution_count": 126,
     "metadata": {},
     "output_type": "execute_result"
    }
   ],
   "source": [
    "ones = np.ones((5, 5))\n",
    "ones"
   ]
  },
  {
   "cell_type": "code",
   "execution_count": 127,
   "id": "national-dealing",
   "metadata": {},
   "outputs": [
    {
     "data": {
      "text/plain": [
       "array([[0., 0., 0.],\n",
       "       [0., 0., 0.],\n",
       "       [0., 0., 0.]])"
      ]
     },
     "execution_count": 127,
     "metadata": {},
     "output_type": "execute_result"
    }
   ],
   "source": [
    "zeros = np.zeros((3, 3))\n",
    "zeros"
   ]
  },
  {
   "cell_type": "code",
   "execution_count": 128,
   "id": "accessible-undergraduate",
   "metadata": {},
   "outputs": [
    {
     "data": {
      "text/plain": [
       "array([[0., 0., 0.],\n",
       "       [0., 9., 0.],\n",
       "       [0., 0., 0.]])"
      ]
     },
     "execution_count": 128,
     "metadata": {},
     "output_type": "execute_result"
    }
   ],
   "source": [
    "zeros[1, 1] = 9\n",
    "zeros"
   ]
  },
  {
   "cell_type": "code",
   "execution_count": 156,
   "id": "surface-princeton",
   "metadata": {},
   "outputs": [
    {
     "data": {
      "text/plain": [
       "array([[1., 1., 1., 1., 1.],\n",
       "       [1., 0., 0., 0., 1.],\n",
       "       [1., 0., 9., 0., 1.],\n",
       "       [1., 0., 0., 0., 1.],\n",
       "       [1., 1., 1., 1., 1.]])"
      ]
     },
     "execution_count": 156,
     "metadata": {},
     "output_type": "execute_result"
    }
   ],
   "source": [
    "ones[1:-1, 1:-1] = zeros\n",
    "ones"
   ]
  },
  {
   "cell_type": "markdown",
   "id": "cognitive-project",
   "metadata": {},
   "source": [
    "![array2](array2.png)"
   ]
  },
  {
   "cell_type": "code",
   "execution_count": 183,
   "id": "known-ballot",
   "metadata": {},
   "outputs": [
    {
     "data": {
      "text/plain": [
       "array([[0, 1, 2, 3, 4, 5]])"
      ]
     },
     "execution_count": 183,
     "metadata": {},
     "output_type": "execute_result"
    }
   ],
   "source": [
    "a = np.arange(6).reshape((1, 6))\n",
    "a"
   ]
  },
  {
   "cell_type": "code",
   "execution_count": 184,
   "id": "concerned-carolina",
   "metadata": {},
   "outputs": [
    {
     "ename": "ValueError",
     "evalue": "all the input arrays must have same number of dimensions, but the array at index 0 has 2 dimension(s) and the array at index 1 has 1 dimension(s)",
     "output_type": "error",
     "traceback": [
      "\u001b[1;31m---------------------------------------------------------------------------\u001b[0m",
      "\u001b[1;31mValueError\u001b[0m                                Traceback (most recent call last)",
      "\u001b[1;32m<ipython-input-184-b79f0ea4ba3b>\u001b[0m in \u001b[0;36m<module>\u001b[1;34m\u001b[0m\n\u001b[1;32m----> 1\u001b[1;33m \u001b[0mnp\u001b[0m\u001b[1;33m.\u001b[0m\u001b[0mconcatenate\u001b[0m\u001b[1;33m(\u001b[0m\u001b[1;33m(\u001b[0m\u001b[0ma\u001b[0m\u001b[1;33m,\u001b[0m \u001b[0mnp\u001b[0m\u001b[1;33m.\u001b[0m\u001b[0marange\u001b[0m\u001b[1;33m(\u001b[0m\u001b[1;36m10\u001b[0m\u001b[1;33m,\u001b[0m \u001b[1;36m16\u001b[0m\u001b[1;33m)\u001b[0m\u001b[1;33m)\u001b[0m\u001b[1;33m,\u001b[0m \u001b[0maxis\u001b[0m\u001b[1;33m=\u001b[0m\u001b[1;36m0\u001b[0m\u001b[1;33m)\u001b[0m\u001b[1;33m\u001b[0m\u001b[1;33m\u001b[0m\u001b[0m\n\u001b[0m",
      "\u001b[1;32m<__array_function__ internals>\u001b[0m in \u001b[0;36mconcatenate\u001b[1;34m(*args, **kwargs)\u001b[0m\n",
      "\u001b[1;31mValueError\u001b[0m: all the input arrays must have same number of dimensions, but the array at index 0 has 2 dimension(s) and the array at index 1 has 1 dimension(s)"
     ]
    }
   ],
   "source": [
    "np.concatenate((a, np.arange(10, 16)), axis=0)"
   ]
  },
  {
   "cell_type": "code",
   "execution_count": 185,
   "id": "sweet-separation",
   "metadata": {},
   "outputs": [
    {
     "data": {
      "text/plain": [
       "array([[ 0,  1,  2,  3,  4,  5],\n",
       "       [10, 11, 12, 13, 14, 15],\n",
       "       [20, 21, 22, 23, 24, 25],\n",
       "       [30, 31, 32, 33, 34, 35],\n",
       "       [40, 41, 42, 43, 44, 45],\n",
       "       [50, 51, 52, 53, 54, 55]])"
      ]
     },
     "execution_count": 185,
     "metadata": {},
     "output_type": "execute_result"
    }
   ],
   "source": [
    "for i in range(5):\n",
    "    start = a[i, -1] + 5\n",
    "    concat = np.arange(start, start + 6).reshape((1, 6))\n",
    "    a = np.concatenate((a, concat), axis=0)\n",
    "a"
   ]
  },
  {
   "cell_type": "code",
   "execution_count": 188,
   "id": "domestic-treasure",
   "metadata": {},
   "outputs": [
    {
     "data": {
      "text/plain": [
       "array([3, 4])"
      ]
     },
     "execution_count": 188,
     "metadata": {},
     "output_type": "execute_result"
    }
   ],
   "source": [
    "yellow = a[0, 3:5]\n",
    "yellow"
   ]
  },
  {
   "cell_type": "code",
   "execution_count": 190,
   "id": "bacterial-refund",
   "metadata": {},
   "outputs": [
    {
     "data": {
      "text/plain": [
       "array([ 2, 12, 22, 32, 42, 52])"
      ]
     },
     "execution_count": 190,
     "metadata": {},
     "output_type": "execute_result"
    }
   ],
   "source": [
    "red = a[:, 2]\n",
    "red"
   ]
  },
  {
   "cell_type": "code",
   "execution_count": 192,
   "id": "modern-belarus",
   "metadata": {},
   "outputs": [
    {
     "data": {
      "text/plain": [
       "array([[20, 22, 24],\n",
       "       [40, 42, 44]])"
      ]
     },
     "execution_count": 192,
     "metadata": {},
     "output_type": "execute_result"
    }
   ],
   "source": [
    "green = a[[2, 4], ::2]\n",
    "green"
   ]
  },
  {
   "cell_type": "code",
   "execution_count": 195,
   "id": "cleared-jewel",
   "metadata": {},
   "outputs": [
    {
     "data": {
      "text/plain": [
       "array([[44, 45],\n",
       "       [54, 55]])"
      ]
     },
     "execution_count": 195,
     "metadata": {},
     "output_type": "execute_result"
    }
   ],
   "source": [
    "blue = a[-2:,-2:]\n",
    "blue"
   ]
  },
  {
   "cell_type": "code",
   "execution_count": 197,
   "id": "heavy-symphony",
   "metadata": {},
   "outputs": [
    {
     "data": {
      "text/plain": [
       "array([[20, 22, 24],\n",
       "       [40, 42, 44]])"
      ]
     },
     "execution_count": 197,
     "metadata": {},
     "output_type": "execute_result"
    }
   ],
   "source": [
    "green2 = a[2::2, ::2]\n",
    "green2"
   ]
  },
  {
   "cell_type": "markdown",
   "id": "quick-arkansas",
   "metadata": {},
   "source": [
    "![array3](array3.png)"
   ]
  },
  {
   "cell_type": "code",
   "execution_count": 198,
   "id": "liked-vegetarian",
   "metadata": {},
   "outputs": [
    {
     "data": {
      "text/plain": [
       "array([ 2, 22, 52])"
      ]
     },
     "execution_count": 198,
     "metadata": {},
     "output_type": "execute_result"
    }
   ],
   "source": [
    "red = a[[0, 2, -1], 2]\n",
    "red"
   ]
  },
  {
   "cell_type": "code",
   "execution_count": 200,
   "id": "genetic-bridges",
   "metadata": {},
   "outputs": [
    {
     "data": {
      "text/plain": [
       "array([ 1, 12, 23, 34, 45])"
      ]
     },
     "execution_count": 200,
     "metadata": {},
     "output_type": "execute_result"
    }
   ],
   "source": [
    "orange = a[np.arange(5), np.arange(1, 6)]\n",
    "orange"
   ]
  },
  {
   "cell_type": "code",
   "execution_count": 203,
   "id": "australian-hudson",
   "metadata": {},
   "outputs": [
    {
     "data": {
      "text/plain": [
       "array([[30, 32, 35],\n",
       "       [40, 42, 45],\n",
       "       [50, 52, 55]])"
      ]
     },
     "execution_count": 203,
     "metadata": {},
     "output_type": "execute_result"
    }
   ],
   "source": [
    "blue = a[3:, [0, 2, -1]]\n",
    "blue"
   ]
  },
  {
   "cell_type": "code",
   "execution_count": 204,
   "id": "afraid-visit",
   "metadata": {},
   "outputs": [
    {
     "data": {
      "text/plain": [
       "array([ 2, 22, 52])"
      ]
     },
     "execution_count": 204,
     "metadata": {},
     "output_type": "execute_result"
    }
   ],
   "source": [
    "mask = np.array([1, 0, 1, 0, 0, 1], dtype=np.bool)\n",
    "orange2 = a[mask, 2]\n",
    "orange2"
   ]
  },
  {
   "cell_type": "markdown",
   "id": "useful-contest",
   "metadata": {},
   "source": [
    "# CREACION DE ARREGLOS"
   ]
  },
  {
   "cell_type": "code",
   "execution_count": 133,
   "id": "immune-projection",
   "metadata": {},
   "outputs": [],
   "source": [
    "A1 = [[1, 1, 1, 1],\n",
    " [1, 1, 1, 1],\n",
    " [1, 1, 1, 2],\n",
    " [1, 6, 1, 1]]\n",
    "\n",
    "A2 = [[0., 0., 0., 0., 0.],\n",
    " [2., 0., 0., 0., 0.],\n",
    " [0., 3., 0., 0., 0.],\n",
    " [0., 0., 4., 0., 0.],\n",
    " [0., 0., 0., 5., 0.],\n",
    " [0., 0., 0., 0., 6.]]\n",
    "\n",
    "A3 = [[4, 3, 4, 3, 4, 3],\n",
    " [2, 1, 2, 1, 2, 1],\n",
    " [4, 3, 4, 3, 4, 3],\n",
    " [2, 1, 2, 1, 2, 1]]"
   ]
  },
  {
   "cell_type": "code",
   "execution_count": 136,
   "id": "developed-specific",
   "metadata": {},
   "outputs": [
    {
     "data": {
      "text/plain": [
       "array([[1, 1, 1, 1],\n",
       "       [1, 1, 1, 1],\n",
       "       [1, 1, 1, 2],\n",
       "       [1, 6, 1, 1]])"
      ]
     },
     "execution_count": 136,
     "metadata": {},
     "output_type": "execute_result"
    }
   ],
   "source": [
    "a1 = np.ones((4, 4), dtype=np.int32)\n",
    "a1[[-2, -1], [-1, 1]] = [2, 6]\n",
    "a1"
   ]
  },
  {
   "cell_type": "code",
   "execution_count": 137,
   "id": "retired-roulette",
   "metadata": {},
   "outputs": [
    {
     "data": {
      "text/plain": [
       "array([[2, 0, 0, 0, 0],\n",
       "       [0, 3, 0, 0, 0],\n",
       "       [0, 0, 4, 0, 0],\n",
       "       [0, 0, 0, 5, 0],\n",
       "       [0, 0, 0, 0, 6]])"
      ]
     },
     "execution_count": 137,
     "metadata": {},
     "output_type": "execute_result"
    }
   ],
   "source": [
    "a2 = np.diag(np.arange(2, 7))\n",
    "a2"
   ]
  },
  {
   "cell_type": "code",
   "execution_count": 140,
   "id": "economic-central",
   "metadata": {},
   "outputs": [
    {
     "data": {
      "text/plain": [
       "array([[0., 0., 0., 0., 0.],\n",
       "       [2., 0., 0., 0., 0.],\n",
       "       [0., 3., 0., 0., 0.],\n",
       "       [0., 0., 4., 0., 0.],\n",
       "       [0., 0., 0., 5., 0.],\n",
       "       [0., 0., 0., 0., 6.]])"
      ]
     },
     "execution_count": 140,
     "metadata": {},
     "output_type": "execute_result"
    }
   ],
   "source": [
    "a2 = np.vstack((np.zeros(5), a2))\n",
    "a2"
   ]
  },
  {
   "cell_type": "code",
   "execution_count": 145,
   "id": "painted-butterfly",
   "metadata": {},
   "outputs": [
    {
     "data": {
      "text/plain": [
       "array([[0., 0., 0., 0., 0.],\n",
       "       [2., 0., 0., 0., 0.],\n",
       "       [0., 3., 0., 0., 0.],\n",
       "       [0., 0., 4., 0., 0.],\n",
       "       [0., 0., 0., 5., 0.],\n",
       "       [0., 0., 0., 0., 6.]], dtype=float32)"
      ]
     },
     "execution_count": 145,
     "metadata": {},
     "output_type": "execute_result"
    }
   ],
   "source": [
    "np.diag(np.arange(2, 7), k=-1)[:, :-1].astype(np.float32)"
   ]
  },
  {
   "cell_type": "code",
   "execution_count": 206,
   "id": "moving-microwave",
   "metadata": {},
   "outputs": [
    {
     "data": {
      "text/plain": [
       "array([[4, 3],\n",
       "       [2, 1]])"
      ]
     },
     "execution_count": 206,
     "metadata": {},
     "output_type": "execute_result"
    }
   ],
   "source": [
    "a3 = np.flipud(np.arange(1, 5)).reshape((2, 2))\n",
    "a3"
   ]
  },
  {
   "cell_type": "code",
   "execution_count": 207,
   "id": "located-exhaust",
   "metadata": {},
   "outputs": [
    {
     "data": {
      "text/plain": [
       "array([[4, 3, 4, 3, 4, 3],\n",
       "       [2, 1, 2, 1, 2, 1],\n",
       "       [4, 3, 4, 3, 4, 3],\n",
       "       [2, 1, 2, 1, 2, 1]])"
      ]
     },
     "execution_count": 207,
     "metadata": {},
     "output_type": "execute_result"
    }
   ],
   "source": [
    "a3 = np.tile(a3, (2, 3))\n",
    "a3"
   ]
  },
  {
   "cell_type": "markdown",
   "id": "colored-prisoner",
   "metadata": {},
   "source": [
    "# MATERIAL DE ESTUDIO\n",
    "* https://numpy.org/doc/stable/reference/routines.math.html\n",
    "* https://python-para-impacientes.blogspot.com/2019/10/primeros-pasos-con-numpy.html\n",
    "* http://research.iac.es/sieinvens/python-course/source/numpy.html\n",
    "* https://numpy.org/doc/stable/user/numpy-for-matlab-users.html\n",
    "* https://numpy.org/doc/stable/\n",
    "* https://docs.python.org/3/tutorial/\n",
    "* https://cs231n.github.io/python-numpy-tutorial/#arrays\n",
    "* https://docs.scipy.org/doc/scipy/reference/index.html\n",
    "* https://numpy.org/doc/stable/reference/\n",
    "* https://claudiovz.github.io/scipy-lecture-notes-ES/index.html\n",
    "* https://numpy.org/doc/stable/reference/routines.array-creation.html\n",
    "* https://numpy.org/doc/stable/reference/routines.linalg.html\n",
    "* https://numpy.org/doc/stable/user/basics.broadcasting.html\n",
    "* http://scipy.github.io/old-wiki/pages/EricsBroadcastingDoc"
   ]
  }
 ],
 "metadata": {
  "kernelspec": {
   "display_name": "Python 3",
   "language": "python",
   "name": "python3"
  },
  "language_info": {
   "codemirror_mode": {
    "name": "ipython",
    "version": 3
   },
   "file_extension": ".py",
   "mimetype": "text/x-python",
   "name": "python",
   "nbconvert_exporter": "python",
   "pygments_lexer": "ipython3",
   "version": "3.8.5"
  }
 },
 "nbformat": 4,
 "nbformat_minor": 5
}
