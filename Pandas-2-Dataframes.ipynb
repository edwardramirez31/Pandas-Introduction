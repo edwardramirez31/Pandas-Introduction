{
 "cells": [
  {
   "cell_type": "markdown",
   "id": "skilled-courage",
   "metadata": {},
   "source": [
    "# DATAFRAME:\n",
    "Un `dataframe` es una estructura de datos compuesta por filas y columnas.\n",
    "- Para entender mejor dataframes, se empieza con un objeto que contiene el nombre, apellido y el email de una persona:"
   ]
  },
  {
   "cell_type": "code",
   "execution_count": 1,
   "id": "advance-cleveland",
   "metadata": {},
   "outputs": [],
   "source": [
    "person = {\n",
    "    'first': 'Edward',\n",
    "    'last': 'Ramírez',\n",
    "    'email': 'edal_ramirez@hotmail.com'\n",
    "}"
   ]
  },
  {
   "cell_type": "markdown",
   "id": "subject-animation",
   "metadata": {},
   "source": [
    "Un dataframe en Python tiene el aspecto de un diccionario donde *la llave es el nombre de la columna* y esta tiene como valor una lista de datos, donde *cada dato es una fila*\n",
    "\n",
    "> * **Llaves**: Columnas del dataframe\n",
    "> * **Valor**: Listas de datos\n",
    "    - La lista de datos es una representación de las filas"
   ]
  },
  {
   "cell_type": "code",
   "execution_count": 2,
   "id": "applicable-sucking",
   "metadata": {},
   "outputs": [],
   "source": [
    "people = {\n",
    "    'first': ['Edward', 'John', 'Luisito'],\n",
    "    'last': ['Ramírez', 'Doe', 'Herreño'], \n",
    "    'email': ['edal_ramirez@hotmail.com', 'johndoe@hotmail.com', 'luisitoyedward@hotmail.com']\n",
    "}"
   ]
  },
  {
   "cell_type": "code",
   "execution_count": 7,
   "id": "spread-agreement",
   "metadata": {},
   "outputs": [],
   "source": [
    "import pandas as pd"
   ]
  },
  {
   "cell_type": "markdown",
   "id": "educated-failure",
   "metadata": {},
   "source": [
    "Para crear un dataframe con base en objetos de Python, uso la clase `Dataframe` de Pandas."
   ]
  },
  {
   "cell_type": "code",
   "execution_count": 5,
   "id": "decreased-ferry",
   "metadata": {},
   "outputs": [],
   "source": [
    "df = pd.DataFrame(people)"
   ]
  },
  {
   "cell_type": "code",
   "execution_count": 6,
   "id": "framed-survival",
   "metadata": {},
   "outputs": [
    {
     "data": {
      "text/html": [
       "<div>\n",
       "<style scoped>\n",
       "    .dataframe tbody tr th:only-of-type {\n",
       "        vertical-align: middle;\n",
       "    }\n",
       "\n",
       "    .dataframe tbody tr th {\n",
       "        vertical-align: top;\n",
       "    }\n",
       "\n",
       "    .dataframe thead th {\n",
       "        text-align: right;\n",
       "    }\n",
       "</style>\n",
       "<table border=\"1\" class=\"dataframe\">\n",
       "  <thead>\n",
       "    <tr style=\"text-align: right;\">\n",
       "      <th></th>\n",
       "      <th>first</th>\n",
       "      <th>last</th>\n",
       "      <th>email</th>\n",
       "    </tr>\n",
       "  </thead>\n",
       "  <tbody>\n",
       "    <tr>\n",
       "      <th>0</th>\n",
       "      <td>Edward</td>\n",
       "      <td>Ramírez</td>\n",
       "      <td>edal_ramirez@hotmail.com</td>\n",
       "    </tr>\n",
       "    <tr>\n",
       "      <th>1</th>\n",
       "      <td>John</td>\n",
       "      <td>Doe</td>\n",
       "      <td>johndoe@hotmail.com</td>\n",
       "    </tr>\n",
       "    <tr>\n",
       "      <th>2</th>\n",
       "      <td>Luisito</td>\n",
       "      <td>Herreño</td>\n",
       "      <td>luisitoyedward@hotmail.com</td>\n",
       "    </tr>\n",
       "  </tbody>\n",
       "</table>\n",
       "</div>"
      ],
      "text/plain": [
       "     first     last                       email\n",
       "0   Edward  Ramírez    edal_ramirez@hotmail.com\n",
       "1     John      Doe         johndoe@hotmail.com\n",
       "2  Luisito  Herreño  luisitoyedward@hotmail.com"
      ]
     },
     "execution_count": 6,
     "metadata": {},
     "output_type": "execute_result"
    }
   ],
   "source": [
    "df"
   ]
  },
  {
   "cell_type": "markdown",
   "id": "arbitrary-edwards",
   "metadata": {},
   "source": [
    "Para acceder a todos los datos correspondientes a una columna uso la notación de Python para acceder a una llave de un diccionario.\n",
    "> Acceder a los datos de una columna devuelve un objeto de Python tipo `Series`. Los objetos de este tipo son listas de datos o también corresponden a *todas las filas de una sola columna*.\n",
    "> Con base en la anterior definición de `Series`, podemos ver los *dataframes como contenedores de multiples Series.*"
   ]
  },
  {
   "cell_type": "code",
   "execution_count": 9,
   "id": "entitled-organization",
   "metadata": {},
   "outputs": [
    {
     "data": {
      "text/plain": [
       "['Edward', 'John', 'Luisito']"
      ]
     },
     "execution_count": 9,
     "metadata": {},
     "output_type": "execute_result"
    }
   ],
   "source": [
    "people['first']"
   ]
  },
  {
   "cell_type": "code",
   "execution_count": 10,
   "id": "several-victor",
   "metadata": {},
   "outputs": [
    {
     "data": {
      "text/plain": [
       "0     Edward\n",
       "1       John\n",
       "2    Luisito\n",
       "Name: first, dtype: object"
      ]
     },
     "execution_count": 10,
     "metadata": {},
     "output_type": "execute_result"
    }
   ],
   "source": [
    "df['first']"
   ]
  },
  {
   "cell_type": "markdown",
   "id": "honest-essence",
   "metadata": {},
   "source": [
    "## Obtener multiples columnas\n",
    "\n",
    "Para acceder a multiples columnas de un dataframe se usa la misma notación de corchetes, pero esta vez, se pasa una lista con cada uno de los campos deseados\n",
    "> Debido a que obtengo multiples columnas, el objeto devuelto por esta operación es un dataframe y no Series"
   ]
  },
  {
   "cell_type": "code",
   "execution_count": 11,
   "id": "comparable-familiar",
   "metadata": {},
   "outputs": [
    {
     "data": {
      "text/html": [
       "<div>\n",
       "<style scoped>\n",
       "    .dataframe tbody tr th:only-of-type {\n",
       "        vertical-align: middle;\n",
       "    }\n",
       "\n",
       "    .dataframe tbody tr th {\n",
       "        vertical-align: top;\n",
       "    }\n",
       "\n",
       "    .dataframe thead th {\n",
       "        text-align: right;\n",
       "    }\n",
       "</style>\n",
       "<table border=\"1\" class=\"dataframe\">\n",
       "  <thead>\n",
       "    <tr style=\"text-align: right;\">\n",
       "      <th></th>\n",
       "      <th>first</th>\n",
       "      <th>email</th>\n",
       "    </tr>\n",
       "  </thead>\n",
       "  <tbody>\n",
       "    <tr>\n",
       "      <th>0</th>\n",
       "      <td>Edward</td>\n",
       "      <td>edal_ramirez@hotmail.com</td>\n",
       "    </tr>\n",
       "    <tr>\n",
       "      <th>1</th>\n",
       "      <td>John</td>\n",
       "      <td>johndoe@hotmail.com</td>\n",
       "    </tr>\n",
       "    <tr>\n",
       "      <th>2</th>\n",
       "      <td>Luisito</td>\n",
       "      <td>luisitoyedward@hotmail.com</td>\n",
       "    </tr>\n",
       "  </tbody>\n",
       "</table>\n",
       "</div>"
      ],
      "text/plain": [
       "     first                       email\n",
       "0   Edward    edal_ramirez@hotmail.com\n",
       "1     John         johndoe@hotmail.com\n",
       "2  Luisito  luisitoyedward@hotmail.com"
      ]
     },
     "execution_count": 11,
     "metadata": {},
     "output_type": "execute_result"
    }
   ],
   "source": [
    "df[['first', 'email']]"
   ]
  },
  {
   "cell_type": "markdown",
   "id": "social-finland",
   "metadata": {},
   "source": [
    "## Obtener el nombre de las columnas de mi dataframe\n",
    "\n",
    "Para obtener una lista con el nombre de todas las columnas de mi dataframe, uso el atributo `columns`"
   ]
  },
  {
   "cell_type": "code",
   "execution_count": 12,
   "id": "suited-transsexual",
   "metadata": {},
   "outputs": [
    {
     "data": {
      "text/plain": [
       "Index(['first', 'last', 'email'], dtype='object')"
      ]
     },
     "execution_count": 12,
     "metadata": {},
     "output_type": "execute_result"
    }
   ],
   "source": [
    "df.columns"
   ]
  },
  {
   "cell_type": "markdown",
   "id": "sonic-content",
   "metadata": {},
   "source": [
    "## Filtrar un Dataframe por filas\n",
    "Hay dos formas para filtrar las columnas de un dataframe:\n",
    "* Indice `loc`: Me permite filtrar por etiquetas `(labels)`\n",
    "* Indice `iloc`: Me permite filtrar por localización numérica `(integer location)`\n",
    "> Se debe usar la notación de corchetes, pasando el respectivo filtro dentro de estos. En el siguiente ejemplo se accede a la primer fila del dataframe, la cual devuelve un objeto `Series` cuyos indices usados para identificar el valor de la serie son los nombres de las columnas"
   ]
  },
  {
   "cell_type": "code",
   "execution_count": 14,
   "id": "eastern-closer",
   "metadata": {},
   "outputs": [
    {
     "data": {
      "text/plain": [
       "first                      Edward\n",
       "last                      Ramírez\n",
       "email    edal_ramirez@hotmail.com\n",
       "Name: 0, dtype: object"
      ]
     },
     "execution_count": 14,
     "metadata": {},
     "output_type": "execute_result"
    }
   ],
   "source": [
    "# Para filtrar la primera fila, se accede a la fila cero (primera) del dataframe\n",
    "# En este caso obtengo una Serie con los valores de una fila\n",
    "df.iloc[0]"
   ]
  },
  {
   "cell_type": "markdown",
   "id": "amazing-martin",
   "metadata": {},
   "source": [
    "## OBTENER MULTIPLES FILAS Y COLUMNAS\n",
    "\n",
    "Para obtener multiples filas y columnas, se debe pasar una `lista` con los *filas* que se desean obtener, y en caso de filtrar las columnas, se pasa otra lista **separada por coma**\n",
    "> Se debe tener en cuenta que usando el indice iloc solo se pasa la posición en forma de integers, y en el caso de usar loc, se debe pasar la respectiva etiqueta de filtro"
   ]
  },
  {
   "cell_type": "code",
   "execution_count": 15,
   "id": "closing-mention",
   "metadata": {},
   "outputs": [
    {
     "data": {
      "text/plain": [
       "2    Luisito\n",
       "0     Edward\n",
       "Name: first, dtype: object"
      ]
     },
     "execution_count": 15,
     "metadata": {},
     "output_type": "execute_result"
    }
   ],
   "source": [
    "# Filtrar las filas 2 y 0, tomano solo la columna 0 (first name)\n",
    "df.iloc[[2, 0], 0]"
   ]
  },
  {
   "cell_type": "code",
   "execution_count": 17,
   "id": "answering-housing",
   "metadata": {},
   "outputs": [
    {
     "data": {
      "text/html": [
       "<div>\n",
       "<style scoped>\n",
       "    .dataframe tbody tr th:only-of-type {\n",
       "        vertical-align: middle;\n",
       "    }\n",
       "\n",
       "    .dataframe tbody tr th {\n",
       "        vertical-align: top;\n",
       "    }\n",
       "\n",
       "    .dataframe thead th {\n",
       "        text-align: right;\n",
       "    }\n",
       "</style>\n",
       "<table border=\"1\" class=\"dataframe\">\n",
       "  <thead>\n",
       "    <tr style=\"text-align: right;\">\n",
       "      <th></th>\n",
       "      <th>first</th>\n",
       "      <th>email</th>\n",
       "    </tr>\n",
       "  </thead>\n",
       "  <tbody>\n",
       "    <tr>\n",
       "      <th>0</th>\n",
       "      <td>Edward</td>\n",
       "      <td>edal_ramirez@hotmail.com</td>\n",
       "    </tr>\n",
       "    <tr>\n",
       "      <th>1</th>\n",
       "      <td>John</td>\n",
       "      <td>johndoe@hotmail.com</td>\n",
       "    </tr>\n",
       "  </tbody>\n",
       "</table>\n",
       "</div>"
      ],
      "text/plain": [
       "    first                     email\n",
       "0  Edward  edal_ramirez@hotmail.com\n",
       "1    John       johndoe@hotmail.com"
      ]
     },
     "execution_count": 17,
     "metadata": {},
     "output_type": "execute_result"
    }
   ],
   "source": [
    "# Filtrar columnas 0 y 1, tomando las columnas 0 y 2 (first y el email)\n",
    "df.iloc[[0, 1], [0, 2]]"
   ]
  },
  {
   "cell_type": "code",
   "execution_count": 21,
   "id": "found-elements",
   "metadata": {},
   "outputs": [
    {
     "data": {
      "text/html": [
       "<div>\n",
       "<style scoped>\n",
       "    .dataframe tbody tr th:only-of-type {\n",
       "        vertical-align: middle;\n",
       "    }\n",
       "\n",
       "    .dataframe tbody tr th {\n",
       "        vertical-align: top;\n",
       "    }\n",
       "\n",
       "    .dataframe thead th {\n",
       "        text-align: right;\n",
       "    }\n",
       "</style>\n",
       "<table border=\"1\" class=\"dataframe\">\n",
       "  <thead>\n",
       "    <tr style=\"text-align: right;\">\n",
       "      <th></th>\n",
       "      <th>email</th>\n",
       "      <th>first</th>\n",
       "    </tr>\n",
       "  </thead>\n",
       "  <tbody>\n",
       "    <tr>\n",
       "      <th>0</th>\n",
       "      <td>edal_ramirez@hotmail.com</td>\n",
       "      <td>Edward</td>\n",
       "    </tr>\n",
       "    <tr>\n",
       "      <th>1</th>\n",
       "      <td>johndoe@hotmail.com</td>\n",
       "      <td>John</td>\n",
       "    </tr>\n",
       "  </tbody>\n",
       "</table>\n",
       "</div>"
      ],
      "text/plain": [
       "                      email   first\n",
       "0  edal_ramirez@hotmail.com  Edward\n",
       "1       johndoe@hotmail.com    John"
      ]
     },
     "execution_count": 21,
     "metadata": {},
     "output_type": "execute_result"
    }
   ],
   "source": [
    "# El mismo filtro anterior, pero mostrando en primer lugar la columna con el dato respectivo al email\n",
    "# Notar que el label para las filas es el mismo indice por default\n",
    "df.loc[[0, 1], ['email', 'first']]"
   ]
  },
  {
   "cell_type": "markdown",
   "id": "tribal-evaluation",
   "metadata": {},
   "source": [
    "## SLICING\n",
    "Se puede usar el slicing que trae Python por default para listas, teniendo en cuenta de que no se debe colocar los corchetes de la lista y que el último dato del slice es inclusivo"
   ]
  },
  {
   "cell_type": "code",
   "execution_count": 22,
   "id": "royal-gnome",
   "metadata": {},
   "outputs": [
    {
     "data": {
      "text/html": [
       "<div>\n",
       "<style scoped>\n",
       "    .dataframe tbody tr th:only-of-type {\n",
       "        vertical-align: middle;\n",
       "    }\n",
       "\n",
       "    .dataframe tbody tr th {\n",
       "        vertical-align: top;\n",
       "    }\n",
       "\n",
       "    .dataframe thead th {\n",
       "        text-align: right;\n",
       "    }\n",
       "</style>\n",
       "<table border=\"1\" class=\"dataframe\">\n",
       "  <thead>\n",
       "    <tr style=\"text-align: right;\">\n",
       "      <th></th>\n",
       "      <th>last</th>\n",
       "      <th>email</th>\n",
       "    </tr>\n",
       "  </thead>\n",
       "  <tbody>\n",
       "    <tr>\n",
       "      <th>0</th>\n",
       "      <td>Ramírez</td>\n",
       "      <td>edal_ramirez@hotmail.com</td>\n",
       "    </tr>\n",
       "    <tr>\n",
       "      <th>1</th>\n",
       "      <td>Doe</td>\n",
       "      <td>johndoe@hotmail.com</td>\n",
       "    </tr>\n",
       "  </tbody>\n",
       "</table>\n",
       "</div>"
      ],
      "text/plain": [
       "      last                     email\n",
       "0  Ramírez  edal_ramirez@hotmail.com\n",
       "1      Doe       johndoe@hotmail.com"
      ]
     },
     "execution_count": 22,
     "metadata": {},
     "output_type": "execute_result"
    }
   ],
   "source": [
    "df.loc[0:1, 'last':'email']"
   ]
  }
 ],
 "metadata": {
  "kernelspec": {
   "display_name": "Python 3",
   "language": "python",
   "name": "python3"
  },
  "language_info": {
   "codemirror_mode": {
    "name": "ipython",
    "version": 3
   },
   "file_extension": ".py",
   "mimetype": "text/x-python",
   "name": "python",
   "nbconvert_exporter": "python",
   "pygments_lexer": "ipython3",
   "version": "3.8.5"
  }
 },
 "nbformat": 4,
 "nbformat_minor": 5
}
